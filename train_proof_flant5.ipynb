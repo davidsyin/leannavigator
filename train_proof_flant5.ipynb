{
 "cells": [
  {
   "cell_type": "code",
   "execution_count": 1,
   "id": "13091b1c",
   "metadata": {},
   "outputs": [
    {
     "name": "stdout",
     "output_type": "stream",
     "text": [
      "Data loaded\n",
      "4702639 examples loaded\n"
     ]
    }
   ],
   "source": [
    "import os\n",
    "import pickle\n",
    "import json\n",
    "import random\n",
    "\n",
    "fin = open('/home/mcwave/code/automath/atp/datasets/prover_training_data_6.json', \"r\")\n",
    "data = json.load(fin)\n",
    "print(\"Data loaded\")\n",
    "data_2 = []\n",
    "\n",
    "for example in data:\n",
    "#     print(example)\n",
    "#     break\n",
    "#     example = list(example)\n",
    "    example[-1] = example[-1].split(\"\\n\")[0]\n",
    "#     print(example[-1])\n",
    "#     break\n",
    "    data_2.append(tuple(example))\n",
    "\n",
    "random.shuffle(data_2)\n",
    "data = data_2\n",
    "print(len(data), \"examples loaded\")"
   ]
  },
  {
   "cell_type": "code",
   "execution_count": 2,
   "id": "1fb3d064",
   "metadata": {},
   "outputs": [],
   "source": [
    "# import datasets\n",
    "\n",
    "# data = datasets.load_from_disk(\"datasets/reprover_dataset.dataset\")\n",
    "# data_2 = []\n",
    "# for i in range(len(data)):\n",
    "#     data_2.append((data[i][\"instruction\"], data[i][\"response\"]))\n",
    "# data = data_2"
   ]
  },
  {
   "cell_type": "code",
   "execution_count": 3,
   "id": "cedd4bb1",
   "metadata": {},
   "outputs": [
    {
     "data": {
      "text/plain": [
       "3"
      ]
     },
     "execution_count": 3,
     "metadata": {},
     "output_type": "execute_result"
    }
   ],
   "source": [
    "from transformers import AutoTokenizer\n",
    "\n",
    "tokenizer_name = \"morph-labs/morph-prover-v0-7b\" #\"internlm/internlm2-math-7b\" #\"ScalableMath/Lean-STaR-plus\"  # 'Saisam/gpt-neo-math-small' #\n",
    "\n",
    "tokenizer = AutoTokenizer.from_pretrained(tokenizer_name)\n",
    "tokenizer.padding_side = \"right\"\n",
    "\n",
    "# Define the separator token\n",
    "sep_token = \"<sep>\"\n",
    "pad_token = \"<pad>\"\n",
    "eos_token = \"<end>\"\n",
    "\n",
    "# Check if the separator token already exists in the vocabulary\n",
    "if sep_token not in tokenizer.get_vocab():\n",
    "    tokenizer.add_tokens([sep_token])\n",
    "if pad_token not in tokenizer.get_vocab():\n",
    "    tokenizer.add_tokens([pad_token])\n",
    "\n",
    "# Set the separator token\n",
    "tokenizer.sep_token = sep_token\n",
    "tokenizer.pad_token = pad_token\n",
    "\n",
    "tokenizer.add_special_tokens({\n",
    "    'sep_token': sep_token,\n",
    "    'pad_token': pad_token,\n",
    "    'eos_token': eos_token\n",
    "})\n",
    "# tokenizer = AutoTokenizer.from_pretrained(\"kaiyuy/leandojo-lean4-tacgen-byt5-small\")\n",
    "# tokenizer.sep_token = tokenizer.pad_token"
   ]
  },
  {
   "cell_type": "code",
   "execution_count": 1,
   "id": "f6b4396d",
   "metadata": {},
   "outputs": [
    {
     "ename": "NameError",
     "evalue": "name 'data' is not defined",
     "output_type": "error",
     "traceback": [
      "\u001b[0;31m---------------------------------------------------------------------------\u001b[0m",
      "\u001b[0;31mNameError\u001b[0m                                 Traceback (most recent call last)",
      "Cell \u001b[0;32mIn[1], line 62\u001b[0m\n\u001b[1;32m     49\u001b[0m model \u001b[38;5;241m=\u001b[39m AutoModelForSeq2SeqLM\u001b[38;5;241m.\u001b[39mfrom_pretrained(model_name)\n\u001b[1;32m     50\u001b[0m \u001b[38;5;66;03m# model = torch.load(model_name)\u001b[39;00m\n\u001b[1;32m     51\u001b[0m \n\u001b[1;32m     52\u001b[0m \u001b[38;5;66;03m# # Prepare your data\u001b[39;00m\n\u001b[0;32m   (...)\u001b[0m\n\u001b[1;32m     60\u001b[0m \n\u001b[1;32m     61\u001b[0m \u001b[38;5;66;03m# Create full dataset\u001b[39;00m\n\u001b[0;32m---> 62\u001b[0m full_dataset \u001b[38;5;241m=\u001b[39m InstructionResponseDataset(\u001b[43mdata\u001b[49m, tokenizer)\n\u001b[1;32m     64\u001b[0m \u001b[38;5;66;03m# Split into train and test sets\u001b[39;00m\n\u001b[1;32m     65\u001b[0m train_size \u001b[38;5;241m=\u001b[39m \u001b[38;5;28mint\u001b[39m(\u001b[38;5;241m0.9\u001b[39m \u001b[38;5;241m*\u001b[39m \u001b[38;5;28mlen\u001b[39m(full_dataset))\n",
      "\u001b[0;31mNameError\u001b[0m: name 'data' is not defined"
     ]
    }
   ],
   "source": [
    "import torch\n",
    "from torch.utils.data import Dataset, DataLoader, random_split\n",
    "from transformers import AutoTokenizer, AutoModelForSeq2SeqLM, AdamW\n",
    "from tqdm import tqdm\n",
    "import os\n",
    "\n",
    "class InstructionResponseDataset(Dataset):\n",
    "    def __init__(self, data, tokenizer, max_length=512):\n",
    "        self.data = data\n",
    "        self.tokenizer = tokenizer\n",
    "        self.max_length = max_length\n",
    "\n",
    "    def __len__(self):\n",
    "        return len(self.data)\n",
    "\n",
    "    def __getitem__(self, idx):\n",
    "        instruction, response = self.data[idx]\n",
    "        \n",
    "        input_encoding = self.tokenizer(instruction, max_length=self.max_length, padding=\"max_length\", truncation=True, return_tensors=\"pt\")\n",
    "        output_encoding = self.tokenizer(response, max_length=self.max_length, padding=\"max_length\", truncation=True, return_tensors=\"pt\")\n",
    "\n",
    "        input_mask = input_encoding[\"attention_mask\"].squeeze()\n",
    "\n",
    "        return {\n",
    "            \"input_ids\": input_encoding[\"input_ids\"].squeeze(),\n",
    "            \"attention_mask\": input_mask,\n",
    "            \"labels\": output_encoding[\"input_ids\"].squeeze()\n",
    "        }\n",
    "\n",
    "def evaluate(model, dataloader, device):\n",
    "    model.eval()\n",
    "    total_loss = 0\n",
    "    with torch.no_grad():\n",
    "        for batch in dataloader:\n",
    "            input_ids = batch[\"input_ids\"].to(device)\n",
    "            attention_mask = batch[\"attention_mask\"].to(device)\n",
    "            labels = batch[\"labels\"].to(device)\n",
    "\n",
    "            outputs = model(input_ids=input_ids, attention_mask=attention_mask, labels=labels)\n",
    "            loss = outputs.loss\n",
    "            total_loss += loss.item()\n",
    "\n",
    "    return total_loss / len(dataloader)\n",
    "\n",
    "# Initialize tokenizer and model\n",
    "# model_name = \"models/flan_base/trained_model_600k\"  # You can change this to any other Seq2Seq model\n",
    "model_name = \"google/byt5-base\"\n",
    "# tokenizer = AutoTokenizer.from_pretrained(\"kaiyuy/leandojo-lean4-tacgen-byt5-small\")\n",
    "model = AutoModelForSeq2SeqLM.from_pretrained(model_name)\n",
    "# model = torch.load(model_name)\n",
    "\n",
    "# # Prepare your data\n",
    "# data = [\n",
    "#     (\"Write a poem about spring.\", \"Blossoms bloom in gentle breeze,\\nSunshine warms the earth with ease.\\nBirds return with joyful song,\\nDays grow longer, winter's gone.\"),\n",
    "#     (\"Explain photosynthesis.\", \"Photosynthesis is the process by which plants use sunlight, water, and carbon dioxide to produce oxygen and energy in the form of sugar.\"),\n",
    "#     (\"What is the capital of France?\", \"The capital of France is Paris.\"),\n",
    "#     (\"Describe the water cycle.\", \"The water cycle involves evaporation, condensation, precipitation, and collection of water on Earth's surface and in the atmosphere.\"),\n",
    "#     # Add more instruction-response pairs here\n",
    "# ]\n",
    "\n",
    "# Create full dataset\n",
    "full_dataset = InstructionResponseDataset(data, tokenizer)\n",
    "\n",
    "# Split into train and test sets\n",
    "train_size = int(0.9 * len(full_dataset))\n",
    "test_size = len(full_dataset) - train_size\n",
    "train_dataset, test_dataset = random_split(full_dataset, [train_size, test_size])\n",
    "\n",
    "# Create dataloaders\n",
    "train_dataloader = DataLoader(train_dataset, batch_size=10, shuffle=True)\n",
    "test_dataloader = DataLoader(test_dataset, batch_size=10, shuffle=False)\n",
    "\n",
    "# Set up optimizer\n",
    "optimizer = AdamW(model.parameters(), lr=5e-5)\n",
    "\n",
    "# Training loop\n",
    "device = torch.device(\"cuda\" if torch.cuda.is_available() else \"cpu\")\n",
    "model.to(device)"
   ]
  },
  {
   "cell_type": "code",
   "execution_count": 5,
   "id": "09648a1e",
   "metadata": {},
   "outputs": [
    {
     "name": "stdout",
     "output_type": "stream",
     "text": [
      "tensor(1) tensor(1)\n",
      "tensor(1222) tensor(24671)\n",
      "tensor(264) tensor(307)\n",
      "tensor(28723) tensor(1122)\n",
      "tensor(28708) tensor(28734)\n",
      "tensor(13) tensor(307)\n",
      "tensor(28980) tensor(1122)\n",
      "tensor(714) tensor(28740)\n",
      "tensor(5707) tensor(32001)\n",
      "tensor(332) tensor(32001)\n",
      "tensor(28730) tensor(32001)\n",
      "tensor(28740) tensor(32001)\n",
      "tensor(13) tensor(32001)\n",
      "tensor(28948) tensor(32001)\n",
      "tensor(714) tensor(32001)\n",
      "tensor(5707) tensor(32001)\n",
      "tensor(332) tensor(32001)\n",
      "tensor(28730) tensor(32001)\n",
      "tensor(28750) tensor(32001)\n",
      "tensor(13) tensor(32001)\n",
      "tensor(29152) tensor(32001)\n",
      "tensor(714) tensor(32001)\n",
      "tensor(5707) tensor(32001)\n",
      "tensor(332) tensor(32001)\n",
      "tensor(28730) tensor(32001)\n",
      "tensor(28770) tensor(32001)\n",
      "tensor(13) tensor(32001)\n",
      "tensor(4138) tensor(32001)\n",
      "tensor(229) tensor(32001)\n",
      "tensor(159) tensor(32001)\n",
      "tensor(160) tensor(32001)\n",
      "tensor(30047) tensor(32001)\n",
      "tensor(714) tensor(32001)\n",
      "tensor(6611) tensor(32001)\n",
      "tensor(4423) tensor(32001)\n",
      "tensor(10571) tensor(32001)\n",
      "tensor(28705) tensor(32001)\n",
      "tensor(28948) tensor(32001)\n",
      "tensor(13) tensor(32001)\n",
      "tensor(4138) tensor(32001)\n",
      "tensor(229) tensor(32001)\n",
      "tensor(159) tensor(32001)\n",
      "tensor(160) tensor(32001)\n",
      "tensor(714) tensor(32001)\n",
      "tensor(6611) tensor(32001)\n",
      "tensor(4423) tensor(32001)\n",
      "tensor(10571) tensor(32001)\n",
      "tensor(28705) tensor(32001)\n",
      "tensor(29152) tensor(32001)\n",
      "tensor(13) tensor(32001)\n",
      "tensor(229) tensor(32001)\n",
      "tensor(141) tensor(32001)\n",
      "tensor(165) tensor(32001)\n",
      "tensor(28705) tensor(32001)\n",
      "tensor(229) tensor(32001)\n",
      "tensor(139) tensor(32001)\n",
      "tensor(131) tensor(32001)\n",
      "tensor(325) tensor(32001)\n",
      "tensor(28744) tensor(32001)\n",
      "tensor(714) tensor(32001)\n",
      "tensor(28705) tensor(32001)\n",
      "tensor(28948) tensor(32001)\n",
      "tensor(557) tensor(32001)\n",
      "tensor(1318) tensor(32001)\n",
      "tensor(28705) tensor(32001)\n",
      "tensor(30751) tensor(32001)\n",
      "tensor(28705) tensor(32001)\n",
      "tensor(29597) tensor(32001)\n",
      "tensor(229) tensor(32001)\n",
      "tensor(141) tensor(32001)\n",
      "tensor(167) tensor(32001)\n",
      "tensor(32001) tensor(32001)\n",
      "tensor(32001) tensor(32001)\n",
      "tensor(32001) tensor(32001)\n",
      "tensor(32001) tensor(32001)\n",
      "tensor(32001) tensor(32001)\n",
      "tensor(32001) tensor(32001)\n",
      "tensor(32001) tensor(32001)\n",
      "tensor(32001) tensor(32001)\n",
      "tensor(32001) tensor(32001)\n",
      "tensor(32001) tensor(32001)\n",
      "tensor(32001) tensor(32001)\n",
      "tensor(32001) tensor(32001)\n",
      "tensor(32001) tensor(32001)\n",
      "tensor(32001) tensor(32001)\n",
      "tensor(32001) tensor(32001)\n",
      "tensor(32001) tensor(32001)\n",
      "tensor(32001) tensor(32001)\n",
      "tensor(32001) tensor(32001)\n",
      "tensor(32001) tensor(32001)\n",
      "tensor(32001) tensor(32001)\n",
      "tensor(32001) tensor(32001)\n",
      "tensor(32001) tensor(32001)\n",
      "tensor(32001) tensor(32001)\n",
      "tensor(32001) tensor(32001)\n",
      "tensor(32001) tensor(32001)\n",
      "tensor(32001) tensor(32001)\n",
      "tensor(32001) tensor(32001)\n",
      "tensor(32001) tensor(32001)\n",
      "tensor(32001) tensor(32001)\n",
      "tensor(32001) tensor(32001)\n",
      "tensor(32001) tensor(32001)\n",
      "tensor(32001) tensor(32001)\n",
      "tensor(32001) tensor(32001)\n",
      "tensor(32001) tensor(32001)\n",
      "tensor(32001) tensor(32001)\n",
      "tensor(32001) tensor(32001)\n",
      "tensor(32001) tensor(32001)\n",
      "tensor(32001) tensor(32001)\n",
      "tensor(32001) tensor(32001)\n",
      "tensor(32001) tensor(32001)\n",
      "tensor(32001) tensor(32001)\n",
      "tensor(32001) tensor(32001)\n",
      "tensor(32001) tensor(32001)\n",
      "tensor(32001) tensor(32001)\n",
      "tensor(32001) tensor(32001)\n",
      "tensor(32001) tensor(32001)\n",
      "tensor(32001) tensor(32001)\n",
      "tensor(32001) tensor(32001)\n",
      "tensor(32001) tensor(32001)\n",
      "tensor(32001) tensor(32001)\n",
      "tensor(32001) tensor(32001)\n",
      "tensor(32001) tensor(32001)\n",
      "tensor(32001) tensor(32001)\n",
      "tensor(32001) tensor(32001)\n",
      "tensor(32001) tensor(32001)\n",
      "tensor(32001) tensor(32001)\n",
      "tensor(32001) tensor(32001)\n",
      "tensor(32001) tensor(32001)\n",
      "tensor(32001) tensor(32001)\n",
      "tensor(32001) tensor(32001)\n",
      "tensor(32001) tensor(32001)\n",
      "tensor(32001) tensor(32001)\n",
      "tensor(32001) tensor(32001)\n",
      "tensor(32001) tensor(32001)\n",
      "tensor(32001) tensor(32001)\n",
      "tensor(32001) tensor(32001)\n",
      "tensor(32001) tensor(32001)\n",
      "tensor(32001) tensor(32001)\n",
      "tensor(32001) tensor(32001)\n",
      "tensor(32001) tensor(32001)\n",
      "tensor(32001) tensor(32001)\n",
      "tensor(32001) tensor(32001)\n",
      "tensor(32001) tensor(32001)\n",
      "tensor(32001) tensor(32001)\n",
      "tensor(32001) tensor(32001)\n",
      "tensor(32001) tensor(32001)\n",
      "tensor(32001) tensor(32001)\n",
      "tensor(32001) tensor(32001)\n",
      "tensor(32001) tensor(32001)\n",
      "tensor(32001) tensor(32001)\n",
      "tensor(32001) tensor(32001)\n",
      "tensor(32001) tensor(32001)\n",
      "tensor(32001) tensor(32001)\n",
      "tensor(32001) tensor(32001)\n",
      "tensor(32001) tensor(32001)\n",
      "tensor(32001) tensor(32001)\n",
      "tensor(32001) tensor(32001)\n",
      "tensor(32001) tensor(32001)\n",
      "tensor(32001) tensor(32001)\n",
      "tensor(32001) tensor(32001)\n",
      "tensor(32001) tensor(32001)\n",
      "tensor(32001) tensor(32001)\n",
      "tensor(32001) tensor(32001)\n",
      "tensor(32001) tensor(32001)\n",
      "tensor(32001) tensor(32001)\n",
      "tensor(32001) tensor(32001)\n",
      "tensor(32001) tensor(32001)\n",
      "tensor(32001) tensor(32001)\n",
      "tensor(32001) tensor(32001)\n",
      "tensor(32001) tensor(32001)\n",
      "tensor(32001) tensor(32001)\n",
      "tensor(32001) tensor(32001)\n",
      "tensor(32001) tensor(32001)\n",
      "tensor(32001) tensor(32001)\n",
      "tensor(32001) tensor(32001)\n",
      "tensor(32001) tensor(32001)\n",
      "tensor(32001) tensor(32001)\n",
      "tensor(32001) tensor(32001)\n",
      "tensor(32001) tensor(32001)\n",
      "tensor(32001) tensor(32001)\n",
      "tensor(32001) tensor(32001)\n",
      "tensor(32001) tensor(32001)\n",
      "tensor(32001) tensor(32001)\n",
      "tensor(32001) tensor(32001)\n",
      "tensor(32001) tensor(32001)\n",
      "tensor(32001) tensor(32001)\n",
      "tensor(32001) tensor(32001)\n",
      "tensor(32001) tensor(32001)\n",
      "tensor(32001) tensor(32001)\n",
      "tensor(32001) tensor(32001)\n",
      "tensor(32001) tensor(32001)\n",
      "tensor(32001) tensor(32001)\n",
      "tensor(32001) tensor(32001)\n",
      "tensor(32001) tensor(32001)\n",
      "tensor(32001) tensor(32001)\n",
      "tensor(32001) tensor(32001)\n",
      "tensor(32001) tensor(32001)\n",
      "tensor(32001) tensor(32001)\n",
      "tensor(32001) tensor(32001)\n",
      "tensor(32001) tensor(32001)\n",
      "tensor(32001) tensor(32001)\n",
      "tensor(32001) tensor(32001)\n",
      "tensor(32001) tensor(32001)\n",
      "tensor(32001) tensor(32001)\n",
      "tensor(32001) tensor(32001)\n",
      "tensor(32001) tensor(32001)\n",
      "tensor(32001) tensor(32001)\n",
      "tensor(32001) tensor(32001)\n",
      "tensor(32001) tensor(32001)\n",
      "tensor(32001) tensor(32001)\n",
      "tensor(32001) tensor(32001)\n",
      "tensor(32001) tensor(32001)\n",
      "tensor(32001) tensor(32001)\n",
      "tensor(32001) tensor(32001)\n",
      "tensor(32001) tensor(32001)\n",
      "tensor(32001) tensor(32001)\n",
      "tensor(32001) tensor(32001)\n",
      "tensor(32001) tensor(32001)\n",
      "tensor(32001) tensor(32001)\n",
      "tensor(32001) tensor(32001)\n",
      "tensor(32001) tensor(32001)\n",
      "tensor(32001) tensor(32001)\n",
      "tensor(32001) tensor(32001)\n",
      "tensor(32001) tensor(32001)\n",
      "tensor(32001) tensor(32001)\n",
      "tensor(32001) tensor(32001)\n",
      "tensor(32001) tensor(32001)\n",
      "tensor(32001) tensor(32001)\n",
      "tensor(32001) tensor(32001)\n",
      "tensor(32001) tensor(32001)\n",
      "tensor(32001) tensor(32001)\n",
      "tensor(32001) tensor(32001)\n",
      "tensor(32001) tensor(32001)\n",
      "tensor(32001) tensor(32001)\n",
      "tensor(32001) tensor(32001)\n",
      "tensor(32001) tensor(32001)\n",
      "tensor(32001) tensor(32001)\n",
      "tensor(32001) tensor(32001)\n",
      "tensor(32001) tensor(32001)\n",
      "tensor(32001) tensor(32001)\n",
      "tensor(32001) tensor(32001)\n",
      "tensor(32001) tensor(32001)\n",
      "tensor(32001) tensor(32001)\n",
      "tensor(32001) tensor(32001)\n",
      "tensor(32001) tensor(32001)\n",
      "tensor(32001) tensor(32001)\n",
      "tensor(32001) tensor(32001)\n",
      "tensor(32001) tensor(32001)\n",
      "tensor(32001) tensor(32001)\n",
      "tensor(32001) tensor(32001)\n",
      "tensor(32001) tensor(32001)\n",
      "tensor(32001) tensor(32001)\n",
      "tensor(32001) tensor(32001)\n",
      "tensor(32001) tensor(32001)\n",
      "tensor(32001) tensor(32001)\n",
      "tensor(32001) tensor(32001)\n",
      "tensor(32001) tensor(32001)\n",
      "tensor(32001) tensor(32001)\n",
      "tensor(32001) tensor(32001)\n",
      "tensor(32001) tensor(32001)\n",
      "tensor(32001) tensor(32001)\n",
      "tensor(32001) tensor(32001)\n",
      "tensor(32001) tensor(32001)\n",
      "tensor(32001) tensor(32001)\n",
      "tensor(32001) tensor(32001)\n",
      "tensor(32001) tensor(32001)\n",
      "tensor(32001) tensor(32001)\n",
      "tensor(32001) tensor(32001)\n",
      "tensor(32001) tensor(32001)\n",
      "tensor(32001) tensor(32001)\n",
      "tensor(32001) tensor(32001)\n",
      "tensor(32001) tensor(32001)\n",
      "tensor(32001) tensor(32001)\n",
      "tensor(32001) tensor(32001)\n",
      "tensor(32001) tensor(32001)\n",
      "tensor(32001) tensor(32001)\n",
      "tensor(32001) tensor(32001)\n",
      "tensor(32001) tensor(32001)\n",
      "tensor(32001) tensor(32001)\n",
      "tensor(32001) tensor(32001)\n",
      "tensor(32001) tensor(32001)\n",
      "tensor(32001) tensor(32001)\n",
      "tensor(32001) tensor(32001)\n",
      "tensor(32001) tensor(32001)\n",
      "tensor(32001) tensor(32001)\n",
      "tensor(32001) tensor(32001)\n",
      "tensor(32001) tensor(32001)\n",
      "tensor(32001) tensor(32001)\n",
      "tensor(32001) tensor(32001)\n",
      "tensor(32001) tensor(32001)\n",
      "tensor(32001) tensor(32001)\n",
      "tensor(32001) tensor(32001)\n",
      "tensor(32001) tensor(32001)\n",
      "tensor(32001) tensor(32001)\n",
      "tensor(32001) tensor(32001)\n",
      "tensor(32001) tensor(32001)\n",
      "tensor(32001) tensor(32001)\n",
      "tensor(32001) tensor(32001)\n",
      "tensor(32001) tensor(32001)\n",
      "tensor(32001) tensor(32001)\n",
      "tensor(32001) tensor(32001)\n",
      "tensor(32001) tensor(32001)\n",
      "tensor(32001) tensor(32001)\n",
      "tensor(32001) tensor(32001)\n",
      "tensor(32001) tensor(32001)\n",
      "tensor(32001) tensor(32001)\n",
      "tensor(32001) tensor(32001)\n",
      "tensor(32001) tensor(32001)\n",
      "tensor(32001) tensor(32001)\n",
      "tensor(32001) tensor(32001)\n",
      "tensor(32001) tensor(32001)\n",
      "tensor(32001) tensor(32001)\n",
      "tensor(32001) tensor(32001)\n",
      "tensor(32001) tensor(32001)\n",
      "tensor(32001) tensor(32001)\n",
      "tensor(32001) tensor(32001)\n",
      "tensor(32001) tensor(32001)\n",
      "tensor(32001) tensor(32001)\n",
      "tensor(32001) tensor(32001)\n",
      "tensor(32001) tensor(32001)\n",
      "tensor(32001) tensor(32001)\n",
      "tensor(32001) tensor(32001)\n",
      "tensor(32001) tensor(32001)\n",
      "tensor(32001) tensor(32001)\n",
      "tensor(32001) tensor(32001)\n",
      "tensor(32001) tensor(32001)\n",
      "tensor(32001) tensor(32001)\n",
      "tensor(32001) tensor(32001)\n",
      "tensor(32001) tensor(32001)\n",
      "tensor(32001) tensor(32001)\n",
      "tensor(32001) tensor(32001)\n",
      "tensor(32001) tensor(32001)\n",
      "tensor(32001) tensor(32001)\n",
      "tensor(32001) tensor(32001)\n",
      "tensor(32001) tensor(32001)\n",
      "tensor(32001) tensor(32001)\n",
      "tensor(32001) tensor(32001)\n",
      "tensor(32001) tensor(32001)\n",
      "tensor(32001) tensor(32001)\n",
      "tensor(32001) tensor(32001)\n",
      "tensor(32001) tensor(32001)\n",
      "tensor(32001) tensor(32001)\n",
      "tensor(32001) tensor(32001)\n",
      "tensor(32001) tensor(32001)\n",
      "tensor(32001) tensor(32001)\n",
      "tensor(32001) tensor(32001)\n",
      "tensor(32001) tensor(32001)\n",
      "tensor(32001) tensor(32001)\n",
      "tensor(32001) tensor(32001)\n",
      "tensor(32001) tensor(32001)\n",
      "tensor(32001) tensor(32001)\n",
      "tensor(32001) tensor(32001)\n",
      "tensor(32001) tensor(32001)\n",
      "tensor(32001) tensor(32001)\n",
      "tensor(32001) tensor(32001)\n",
      "tensor(32001) tensor(32001)\n",
      "tensor(32001) tensor(32001)\n",
      "tensor(32001) tensor(32001)\n",
      "tensor(32001) tensor(32001)\n",
      "tensor(32001) tensor(32001)\n",
      "tensor(32001) tensor(32001)\n",
      "tensor(32001) tensor(32001)\n",
      "tensor(32001) tensor(32001)\n",
      "tensor(32001) tensor(32001)\n",
      "tensor(32001) tensor(32001)\n",
      "tensor(32001) tensor(32001)\n",
      "tensor(32001) tensor(32001)\n",
      "tensor(32001) tensor(32001)\n",
      "tensor(32001) tensor(32001)\n",
      "tensor(32001) tensor(32001)\n",
      "tensor(32001) tensor(32001)\n",
      "tensor(32001) tensor(32001)\n",
      "tensor(32001) tensor(32001)\n",
      "tensor(32001) tensor(32001)\n",
      "tensor(32001) tensor(32001)\n",
      "tensor(32001) tensor(32001)\n",
      "tensor(32001) tensor(32001)\n",
      "tensor(32001) tensor(32001)\n",
      "tensor(32001) tensor(32001)\n",
      "tensor(32001) tensor(32001)\n",
      "tensor(32001) tensor(32001)\n",
      "tensor(32001) tensor(32001)\n",
      "tensor(32001) tensor(32001)\n",
      "tensor(32001) tensor(32001)\n",
      "tensor(32001) tensor(32001)\n",
      "tensor(32001) tensor(32001)\n",
      "tensor(32001) tensor(32001)\n",
      "tensor(32001) tensor(32001)\n",
      "tensor(32001) tensor(32001)\n",
      "tensor(32001) tensor(32001)\n",
      "tensor(32001) tensor(32001)\n",
      "tensor(32001) tensor(32001)\n",
      "tensor(32001) tensor(32001)\n",
      "tensor(32001) tensor(32001)\n",
      "tensor(32001) tensor(32001)\n",
      "tensor(32001) tensor(32001)\n",
      "tensor(32001) tensor(32001)\n",
      "tensor(32001) tensor(32001)\n",
      "tensor(32001) tensor(32001)\n",
      "tensor(32001) tensor(32001)\n",
      "tensor(32001) tensor(32001)\n",
      "tensor(32001) tensor(32001)\n",
      "tensor(32001) tensor(32001)\n",
      "tensor(32001) tensor(32001)\n",
      "tensor(32001) tensor(32001)\n",
      "tensor(32001) tensor(32001)\n",
      "tensor(32001) tensor(32001)\n",
      "tensor(32001) tensor(32001)\n",
      "tensor(32001) tensor(32001)\n",
      "tensor(32001) tensor(32001)\n",
      "tensor(32001) tensor(32001)\n",
      "tensor(32001) tensor(32001)\n",
      "tensor(32001) tensor(32001)\n",
      "tensor(32001) tensor(32001)\n",
      "tensor(32001) tensor(32001)\n",
      "tensor(32001) tensor(32001)\n",
      "tensor(32001) tensor(32001)\n",
      "tensor(32001) tensor(32001)\n",
      "tensor(32001) tensor(32001)\n",
      "tensor(32001) tensor(32001)\n",
      "tensor(32001) tensor(32001)\n",
      "tensor(32001) tensor(32001)\n",
      "tensor(32001) tensor(32001)\n",
      "tensor(32001) tensor(32001)\n",
      "tensor(32001) tensor(32001)\n",
      "tensor(32001) tensor(32001)\n",
      "tensor(32001) tensor(32001)\n",
      "tensor(32001) tensor(32001)\n",
      "tensor(32001) tensor(32001)\n",
      "tensor(32001) tensor(32001)\n",
      "tensor(32001) tensor(32001)\n",
      "tensor(32001) tensor(32001)\n",
      "tensor(32001) tensor(32001)\n",
      "tensor(32001) tensor(32001)\n",
      "tensor(32001) tensor(32001)\n",
      "tensor(32001) tensor(32001)\n",
      "tensor(32001) tensor(32001)\n",
      "tensor(32001) tensor(32001)\n",
      "tensor(32001) tensor(32001)\n",
      "tensor(32001) tensor(32001)\n",
      "tensor(32001) tensor(32001)\n",
      "tensor(32001) tensor(32001)\n",
      "tensor(32001) tensor(32001)\n",
      "tensor(32001) tensor(32001)\n",
      "tensor(32001) tensor(32001)\n",
      "tensor(32001) tensor(32001)\n",
      "tensor(32001) tensor(32001)\n",
      "tensor(32001) tensor(32001)\n",
      "tensor(32001) tensor(32001)\n",
      "tensor(32001) tensor(32001)\n",
      "tensor(32001) tensor(32001)\n",
      "tensor(32001) tensor(32001)\n",
      "tensor(32001) tensor(32001)\n",
      "tensor(32001) tensor(32001)\n",
      "tensor(32001) tensor(32001)\n",
      "tensor(32001) tensor(32001)\n",
      "tensor(32001) tensor(32001)\n",
      "tensor(32001) tensor(32001)\n",
      "tensor(32001) tensor(32001)\n",
      "tensor(32001) tensor(32001)\n",
      "tensor(32001) tensor(32001)\n",
      "tensor(32001) tensor(32001)\n",
      "tensor(32001) tensor(32001)\n",
      "tensor(32001) tensor(32001)\n",
      "tensor(32001) tensor(32001)\n",
      "tensor(32001) tensor(32001)\n",
      "tensor(32001) tensor(32001)\n",
      "tensor(32001) tensor(32001)\n",
      "tensor(32001) tensor(32001)\n",
      "tensor(32001) tensor(32001)\n",
      "tensor(32001) tensor(32001)\n",
      "tensor(32001) tensor(32001)\n",
      "tensor(32001) tensor(32001)\n",
      "tensor(32001) tensor(32001)\n",
      "tensor(32001) tensor(32001)\n",
      "tensor(32001) tensor(32001)\n",
      "tensor(32001) tensor(32001)\n",
      "tensor(32001) tensor(32001)\n",
      "tensor(32001) tensor(32001)\n",
      "tensor(32001) tensor(32001)\n",
      "tensor(32001) tensor(32001)\n",
      "tensor(32001) tensor(32001)\n",
      "tensor(32001) tensor(32001)\n",
      "tensor(32001) tensor(32001)\n",
      "tensor(32001) tensor(32001)\n",
      "tensor(32001) tensor(32001)\n",
      "tensor(32001) tensor(32001)\n",
      "tensor(32001) tensor(32001)\n",
      "tensor(32001) tensor(32001)\n",
      "tensor(32001) tensor(32001)\n",
      "tensor(32001) tensor(32001)\n",
      "tensor(32001) tensor(32001)\n",
      "tensor(32001) tensor(32001)\n",
      "tensor(32001) tensor(32001)\n",
      "tensor(32001) tensor(32001)\n",
      "tensor(32001) tensor(32001)\n",
      "tensor(32001) tensor(32001)\n",
      "tensor(32001) tensor(32001)\n",
      "tensor(32001) tensor(32001)\n",
      "tensor(32001) tensor(32001)\n",
      "tensor(32001) tensor(32001)\n",
      "tensor(32001) tensor(32001)\n",
      "tensor(32001) tensor(32001)\n",
      "tensor(32001) tensor(32001)\n",
      "tensor(32001) tensor(32001)\n",
      "tensor(32001) tensor(32001)\n",
      "tensor(32001) tensor(32001)\n",
      "tensor(32001) tensor(32001)\n",
      "tensor(32001) tensor(32001)\n",
      "tensor(32001) tensor(32001)\n",
      "tensor(32001) tensor(32001)\n",
      "<s> case a.a\n",
      "ι : Type u_1\n",
      "α : Type u_2\n",
      "β : Type u_3\n",
      "inst✝¹ : TopologicalSpace α\n",
      "inst✝ : TopologicalSpace β\n",
      "⊢ ∀ (x : α), x ∈ ↑⊤<pad><pad><pad><pad><pad><pad><pad><pad><pad><pad><pad><pad><pad><pad><pad><pad><pad><pad><pad><pad><pad><pad><pad><pad><pad><pad><pad><pad><pad><pad><pad><pad><pad><pad><pad><pad><pad><pad><pad><pad><pad><pad><pad><pad><pad><pad><pad><pad><pad><pad><pad><pad><pad><pad><pad><pad><pad><pad><pad><pad><pad><pad><pad><pad><pad><pad><pad><pad><pad><pad><pad><pad><pad><pad><pad><pad><pad><pad><pad><pad><pad><pad><pad><pad><pad><pad><pad><pad><pad><pad><pad><pad><pad><pad><pad><pad><pad><pad><pad><pad><pad><pad><pad><pad><pad><pad><pad><pad><pad><pad><pad><pad><pad><pad><pad><pad><pad><pad><pad><pad><pad><pad><pad><pad><pad><pad><pad><pad><pad><pad><pad><pad><pad><pad><pad><pad><pad><pad><pad><pad><pad><pad><pad><pad><pad><pad><pad><pad><pad><pad><pad><pad><pad><pad><pad><pad><pad><pad><pad><pad><pad><pad><pad><pad><pad><pad><pad><pad><pad><pad><pad><pad><pad><pad><pad><pad><pad><pad><pad><pad><pad><pad><pad><pad><pad><pad><pad><pad><pad><pad><pad><pad><pad><pad><pad><pad><pad><pad><pad><pad><pad><pad><pad><pad><pad><pad><pad><pad><pad><pad><pad><pad><pad><pad><pad><pad><pad><pad><pad><pad><pad><pad><pad><pad><pad><pad><pad><pad><pad><pad><pad><pad><pad><pad><pad><pad><pad><pad><pad><pad><pad><pad><pad><pad><pad><pad><pad><pad><pad><pad><pad><pad><pad><pad><pad><pad><pad><pad><pad><pad><pad><pad><pad><pad><pad><pad><pad><pad><pad><pad><pad><pad><pad><pad><pad><pad><pad><pad><pad><pad><pad><pad><pad><pad><pad><pad><pad><pad><pad><pad><pad><pad><pad><pad><pad><pad><pad><pad><pad><pad><pad><pad><pad><pad><pad><pad><pad><pad><pad><pad><pad><pad><pad><pad><pad><pad><pad><pad><pad><pad><pad><pad><pad><pad><pad><pad><pad><pad><pad><pad><pad><pad><pad><pad><pad><pad><pad><pad><pad><pad><pad><pad><pad><pad><pad><pad><pad><pad><pad><pad><pad><pad><pad><pad><pad><pad><pad><pad><pad><pad><pad><pad><pad><pad><pad><pad><pad><pad><pad><pad><pad><pad><pad><pad><pad><pad><pad><pad><pad><pad><pad><pad><pad><pad><pad><pad><pad><pad><pad><pad><pad><pad><pad><pad><pad><pad><pad><pad><pad><pad><pad><pad><pad><pad><pad><pad><pad><pad><pad><pad><pad><pad><pad><pad><pad><pad><pad><pad><pad><pad><pad><pad><pad><pad><pad><pad><pad><pad><pad><pad><pad><pad><pad><pad><pad><pad><pad><pad><pad><pad><pad>\n",
      "<s> intro nvar0 nvar1<pad><pad><pad><pad><pad><pad><pad><pad><pad><pad><pad><pad><pad><pad><pad><pad><pad><pad><pad><pad><pad><pad><pad><pad><pad><pad><pad><pad><pad><pad><pad><pad><pad><pad><pad><pad><pad><pad><pad><pad><pad><pad><pad><pad><pad><pad><pad><pad><pad><pad><pad><pad><pad><pad><pad><pad><pad><pad><pad><pad><pad><pad><pad><pad><pad><pad><pad><pad><pad><pad><pad><pad><pad><pad><pad><pad><pad><pad><pad><pad><pad><pad><pad><pad><pad><pad><pad><pad><pad><pad><pad><pad><pad><pad><pad><pad><pad><pad><pad><pad><pad><pad><pad><pad><pad><pad><pad><pad><pad><pad><pad><pad><pad><pad><pad><pad><pad><pad><pad><pad><pad><pad><pad><pad><pad><pad><pad><pad><pad><pad><pad><pad><pad><pad><pad><pad><pad><pad><pad><pad><pad><pad><pad><pad><pad><pad><pad><pad><pad><pad><pad><pad><pad><pad><pad><pad><pad><pad><pad><pad><pad><pad><pad><pad><pad><pad><pad><pad><pad><pad><pad><pad><pad><pad><pad><pad><pad><pad><pad><pad><pad><pad><pad><pad><pad><pad><pad><pad><pad><pad><pad><pad><pad><pad><pad><pad><pad><pad><pad><pad><pad><pad><pad><pad><pad><pad><pad><pad><pad><pad><pad><pad><pad><pad><pad><pad><pad><pad><pad><pad><pad><pad><pad><pad><pad><pad><pad><pad><pad><pad><pad><pad><pad><pad><pad><pad><pad><pad><pad><pad><pad><pad><pad><pad><pad><pad><pad><pad><pad><pad><pad><pad><pad><pad><pad><pad><pad><pad><pad><pad><pad><pad><pad><pad><pad><pad><pad><pad><pad><pad><pad><pad><pad><pad><pad><pad><pad><pad><pad><pad><pad><pad><pad><pad><pad><pad><pad><pad><pad><pad><pad><pad><pad><pad><pad><pad><pad><pad><pad><pad><pad><pad><pad><pad><pad><pad><pad><pad><pad><pad><pad><pad><pad><pad><pad><pad><pad><pad><pad><pad><pad><pad><pad><pad><pad><pad><pad><pad><pad><pad><pad><pad><pad><pad><pad><pad><pad><pad><pad><pad><pad><pad><pad><pad><pad><pad><pad><pad><pad><pad><pad><pad><pad><pad><pad><pad><pad><pad><pad><pad><pad><pad><pad><pad><pad><pad><pad><pad><pad><pad><pad><pad><pad><pad><pad><pad><pad><pad><pad><pad><pad><pad><pad><pad><pad><pad><pad><pad><pad><pad><pad><pad><pad><pad><pad><pad><pad><pad><pad><pad><pad><pad><pad><pad><pad><pad><pad><pad><pad><pad><pad><pad><pad><pad><pad><pad><pad><pad><pad><pad><pad><pad><pad><pad><pad><pad><pad><pad><pad><pad><pad><pad><pad><pad><pad><pad><pad><pad><pad><pad><pad><pad><pad><pad><pad><pad><pad><pad><pad><pad><pad><pad><pad><pad><pad><pad><pad><pad><pad><pad><pad><pad><pad><pad><pad><pad><pad><pad><pad><pad><pad><pad><pad><pad><pad><pad><pad><pad><pad><pad><pad><pad><pad><pad><pad><pad><pad><pad><pad><pad><pad><pad><pad><pad><pad><pad><pad><pad><pad><pad><pad><pad><pad><pad>\n"
     ]
    }
   ],
   "source": [
    "for batch in train_dataloader:\n",
    "    input_ids = batch[\"input_ids\"][0]\n",
    "    labels = batch[\"labels\"][0]\n",
    "    for i in range(len(input_ids)):\n",
    "        print(input_ids[i], labels[i])\n",
    "    print(tokenizer.decode(input_ids))\n",
    "    print(tokenizer.decode(labels))\n",
    "    break"
   ]
  },
  {
   "cell_type": "code",
   "execution_count": 7,
   "id": "5f5651df",
   "metadata": {},
   "outputs": [
    {
     "name": "stderr",
     "output_type": "stream",
     "text": [
      "Epoch 1/10:   0%|                      | 1000/423238 [13:33<93:15:40,  1.26it/s]"
     ]
    },
    {
     "name": "stdout",
     "output_type": "stream",
     "text": [
      "1000 iterations, loss=0.013483682553749531\n"
     ]
    },
    {
     "name": "stderr",
     "output_type": "stream",
     "text": [
      "Epoch 1/10:   0%|                      | 2000/423238 [26:56<93:25:23,  1.25it/s]"
     ]
    },
    {
     "name": "stdout",
     "output_type": "stream",
     "text": [
      "2000 iterations, loss=0.013475905947387219\n"
     ]
    },
    {
     "name": "stderr",
     "output_type": "stream",
     "text": [
      "Epoch 1/10:   1%|▏                     | 3000/423238 [40:35<92:40:40,  1.26it/s]"
     ]
    },
    {
     "name": "stdout",
     "output_type": "stream",
     "text": [
      "3000 iterations, loss=0.013523500826209784\n"
     ]
    },
    {
     "name": "stderr",
     "output_type": "stream",
     "text": [
      "Epoch 1/10:   1%|▏                     | 4000/423238 [54:00<92:10:56,  1.26it/s]"
     ]
    },
    {
     "name": "stdout",
     "output_type": "stream",
     "text": [
      "4000 iterations, loss=0.013652793918270617\n"
     ]
    },
    {
     "name": "stderr",
     "output_type": "stream",
     "text": [
      "Epoch 1/10:   1%|▏                   | 5000/423238 [1:07:12<92:00:41,  1.26it/s]"
     ]
    },
    {
     "name": "stdout",
     "output_type": "stream",
     "text": [
      "5000 iterations, loss=0.013702507117763161\n"
     ]
    },
    {
     "name": "stderr",
     "output_type": "stream",
     "text": [
      "Epoch 1/10:   1%|▎                   | 6000/423238 [1:20:20<91:25:26,  1.27it/s]"
     ]
    },
    {
     "name": "stdout",
     "output_type": "stream",
     "text": [
      "6000 iterations, loss=0.013681181055726483\n"
     ]
    },
    {
     "name": "stderr",
     "output_type": "stream",
     "text": [
      "Epoch 1/10:   2%|▎                   | 7000/423238 [1:33:28<91:01:55,  1.27it/s]"
     ]
    },
    {
     "name": "stdout",
     "output_type": "stream",
     "text": [
      "7000 iterations, loss=0.013685952173545957\n"
     ]
    },
    {
     "name": "stderr",
     "output_type": "stream",
     "text": [
      "Epoch 1/10:   2%|▍                   | 8000/423238 [1:46:35<90:43:26,  1.27it/s]"
     ]
    },
    {
     "name": "stdout",
     "output_type": "stream",
     "text": [
      "8000 iterations, loss=0.013664530550246128\n"
     ]
    },
    {
     "name": "stderr",
     "output_type": "stream",
     "text": [
      "Epoch 1/10:   2%|▍                   | 9000/423238 [1:59:43<90:38:42,  1.27it/s]"
     ]
    },
    {
     "name": "stdout",
     "output_type": "stream",
     "text": [
      "9000 iterations, loss=0.013700359953826086\n"
     ]
    },
    {
     "name": "stderr",
     "output_type": "stream",
     "text": [
      "Epoch 1/10:   2%|▍                  | 10000/423238 [2:12:50<90:02:05,  1.27it/s]"
     ]
    },
    {
     "name": "stdout",
     "output_type": "stream",
     "text": [
      "10000 iterations, loss=0.013719013826502487\n"
     ]
    },
    {
     "name": "stderr",
     "output_type": "stream",
     "text": [
      "Epoch 1/10:   3%|▍                  | 11000/423238 [2:25:57<90:16:47,  1.27it/s]"
     ]
    },
    {
     "name": "stdout",
     "output_type": "stream",
     "text": [
      "11000 iterations, loss=0.013691881052303043\n"
     ]
    },
    {
     "name": "stderr",
     "output_type": "stream",
     "text": [
      "Epoch 1/10:   3%|▌                  | 12000/423238 [2:39:04<90:00:14,  1.27it/s]"
     ]
    },
    {
     "name": "stdout",
     "output_type": "stream",
     "text": [
      "12000 iterations, loss=0.013660715104507592\n"
     ]
    },
    {
     "name": "stderr",
     "output_type": "stream",
     "text": [
      "Epoch 1/10:   3%|▌                  | 13000/423238 [2:52:12<89:45:45,  1.27it/s]"
     ]
    },
    {
     "name": "stdout",
     "output_type": "stream",
     "text": [
      "13000 iterations, loss=0.013680905501573132\n"
     ]
    },
    {
     "name": "stderr",
     "output_type": "stream",
     "text": [
      "Epoch 1/10:   3%|▋                  | 14000/423238 [3:05:21<89:39:26,  1.27it/s]"
     ]
    },
    {
     "name": "stdout",
     "output_type": "stream",
     "text": [
      "14000 iterations, loss=0.013671676132761474\n"
     ]
    },
    {
     "name": "stderr",
     "output_type": "stream",
     "text": [
      "Epoch 1/10:   4%|▋                  | 15000/423238 [3:18:30<89:35:27,  1.27it/s]"
     ]
    },
    {
     "name": "stdout",
     "output_type": "stream",
     "text": [
      "15000 iterations, loss=0.013667017471728226\n"
     ]
    },
    {
     "name": "stderr",
     "output_type": "stream",
     "text": [
      "Epoch 1/10:   4%|▋                  | 16000/423238 [3:31:40<89:21:59,  1.27it/s]"
     ]
    },
    {
     "name": "stdout",
     "output_type": "stream",
     "text": [
      "16000 iterations, loss=0.01367411052552052\n"
     ]
    },
    {
     "name": "stderr",
     "output_type": "stream",
     "text": [
      "Epoch 1/10:   4%|▊                  | 17000/423238 [3:44:50<88:59:36,  1.27it/s]"
     ]
    },
    {
     "name": "stdout",
     "output_type": "stream",
     "text": [
      "17000 iterations, loss=0.013664641674512121\n"
     ]
    },
    {
     "name": "stderr",
     "output_type": "stream",
     "text": [
      "Epoch 1/10:   4%|▊                  | 18000/423238 [3:58:00<89:02:15,  1.26it/s]"
     ]
    },
    {
     "name": "stdout",
     "output_type": "stream",
     "text": [
      "18000 iterations, loss=0.01366834912848814\n"
     ]
    },
    {
     "name": "stderr",
     "output_type": "stream",
     "text": [
      "Epoch 1/10:   4%|▊                  | 19000/423238 [4:11:11<88:47:58,  1.26it/s]"
     ]
    },
    {
     "name": "stdout",
     "output_type": "stream",
     "text": [
      "19000 iterations, loss=0.013669246731534307\n"
     ]
    },
    {
     "name": "stderr",
     "output_type": "stream",
     "text": [
      "Epoch 1/10:   5%|▉                  | 19999/423238 [4:24:20<88:32:23,  1.27it/s]"
     ]
    },
    {
     "name": "stdout",
     "output_type": "stream",
     "text": [
      "20000 iterations, loss=0.013664994942152406\n"
     ]
    },
    {
     "name": "stderr",
     "output_type": "stream",
     "text": [
      "Epoch 1/10:   5%|▉                  | 21000/423238 [4:37:33<88:19:12,  1.27it/s]"
     ]
    },
    {
     "name": "stdout",
     "output_type": "stream",
     "text": [
      "21000 iterations, loss=0.013650696795644415\n"
     ]
    },
    {
     "name": "stderr",
     "output_type": "stream",
     "text": [
      "Epoch 1/10:   5%|▉                  | 22000/423238 [4:50:44<88:10:24,  1.26it/s]"
     ]
    },
    {
     "name": "stdout",
     "output_type": "stream",
     "text": [
      "22000 iterations, loss=0.013658353562117554\n"
     ]
    },
    {
     "name": "stderr",
     "output_type": "stream",
     "text": [
      "Epoch 1/10:   5%|█                  | 23000/423238 [5:03:55<88:00:53,  1.26it/s]"
     ]
    },
    {
     "name": "stdout",
     "output_type": "stream",
     "text": [
      "23000 iterations, loss=0.01365731830861541\n"
     ]
    },
    {
     "name": "stderr",
     "output_type": "stream",
     "text": [
      "Epoch 1/10:   6%|█                  | 24000/423238 [5:17:06<87:49:38,  1.26it/s]"
     ]
    },
    {
     "name": "stdout",
     "output_type": "stream",
     "text": [
      "24000 iterations, loss=0.013640940155630233\n"
     ]
    },
    {
     "name": "stderr",
     "output_type": "stream",
     "text": [
      "Epoch 1/10:   6%|█                  | 25000/423238 [5:30:18<87:28:48,  1.26it/s]"
     ]
    },
    {
     "name": "stdout",
     "output_type": "stream",
     "text": [
      "25000 iterations, loss=0.013649548899298534\n"
     ]
    },
    {
     "name": "stderr",
     "output_type": "stream",
     "text": [
      "Epoch 1/10:   6%|█▏                 | 26000/423238 [5:43:29<87:59:50,  1.25it/s]"
     ]
    },
    {
     "name": "stdout",
     "output_type": "stream",
     "text": [
      "26000 iterations, loss=0.01364603769668163\n"
     ]
    },
    {
     "name": "stderr",
     "output_type": "stream",
     "text": [
      "Epoch 1/10:   6%|█▏                 | 27000/423238 [5:56:41<87:18:50,  1.26it/s]"
     ]
    },
    {
     "name": "stdout",
     "output_type": "stream",
     "text": [
      "27000 iterations, loss=0.013636550071218086\n"
     ]
    },
    {
     "name": "stderr",
     "output_type": "stream",
     "text": [
      "Epoch 1/10:   7%|█▎                 | 28000/423238 [6:09:52<86:44:33,  1.27it/s]"
     ]
    },
    {
     "name": "stdout",
     "output_type": "stream",
     "text": [
      "28000 iterations, loss=0.013632491298485547\n"
     ]
    },
    {
     "name": "stderr",
     "output_type": "stream",
     "text": [
      "Epoch 1/10:   7%|█▎                 | 29000/423238 [6:23:04<86:26:52,  1.27it/s]"
     ]
    },
    {
     "name": "stdout",
     "output_type": "stream",
     "text": [
      "29000 iterations, loss=0.013628239608530341\n"
     ]
    },
    {
     "name": "stderr",
     "output_type": "stream",
     "text": [
      "Epoch 1/10:   7%|█▎                 | 30000/423238 [6:36:15<86:30:05,  1.26it/s]"
     ]
    },
    {
     "name": "stdout",
     "output_type": "stream",
     "text": [
      "30000 iterations, loss=0.013630605953295405\n"
     ]
    },
    {
     "name": "stderr",
     "output_type": "stream",
     "text": [
      "Epoch 1/10:   7%|█▍                 | 31000/423238 [6:49:26<86:16:11,  1.26it/s]"
     ]
    },
    {
     "name": "stdout",
     "output_type": "stream",
     "text": [
      "31000 iterations, loss=0.013629333488808404\n"
     ]
    },
    {
     "name": "stderr",
     "output_type": "stream",
     "text": [
      "Epoch 1/10:   8%|█▍                 | 32000/423238 [7:02:38<85:59:58,  1.26it/s]"
     ]
    },
    {
     "name": "stdout",
     "output_type": "stream",
     "text": [
      "32000 iterations, loss=0.013630832699214807\n"
     ]
    },
    {
     "name": "stderr",
     "output_type": "stream",
     "text": [
      "Epoch 1/10:   8%|█▍                 | 33000/423238 [7:15:49<85:45:56,  1.26it/s]"
     ]
    },
    {
     "name": "stdout",
     "output_type": "stream",
     "text": [
      "33000 iterations, loss=0.013618829213033402\n"
     ]
    },
    {
     "name": "stderr",
     "output_type": "stream",
     "text": [
      "Epoch 1/10:   8%|█▌                 | 34000/423238 [7:29:00<85:39:18,  1.26it/s]"
     ]
    },
    {
     "name": "stdout",
     "output_type": "stream",
     "text": [
      "34000 iterations, loss=0.013613200712531312\n"
     ]
    },
    {
     "name": "stderr",
     "output_type": "stream",
     "text": [
      "Epoch 1/10:   8%|█▌                 | 35000/423238 [7:42:12<85:25:19,  1.26it/s]"
     ]
    },
    {
     "name": "stdout",
     "output_type": "stream",
     "text": [
      "35000 iterations, loss=0.013606567139743961\n"
     ]
    },
    {
     "name": "stderr",
     "output_type": "stream",
     "text": [
      "Epoch 1/10:   9%|█▌                 | 36000/423238 [7:55:23<85:06:37,  1.26it/s]"
     ]
    },
    {
     "name": "stdout",
     "output_type": "stream",
     "text": [
      "36000 iterations, loss=0.013607098400857972\n"
     ]
    },
    {
     "name": "stderr",
     "output_type": "stream",
     "text": [
      "Epoch 1/10:   9%|█▋                 | 37000/423238 [8:08:34<84:38:03,  1.27it/s]"
     ]
    },
    {
     "name": "stdout",
     "output_type": "stream",
     "text": [
      "37000 iterations, loss=0.013610185843055464\n"
     ]
    },
    {
     "name": "stderr",
     "output_type": "stream",
     "text": [
      "Epoch 1/10:   9%|█▋                 | 38000/423238 [8:21:45<84:45:45,  1.26it/s]"
     ]
    },
    {
     "name": "stdout",
     "output_type": "stream",
     "text": [
      "38000 iterations, loss=0.013604635426229307\n"
     ]
    },
    {
     "name": "stderr",
     "output_type": "stream",
     "text": [
      "Epoch 1/10:   9%|█▊                 | 39000/423238 [8:34:57<84:28:54,  1.26it/s]"
     ]
    },
    {
     "name": "stdout",
     "output_type": "stream",
     "text": [
      "39000 iterations, loss=0.013604470355251135\n"
     ]
    },
    {
     "name": "stderr",
     "output_type": "stream",
     "text": [
      "Epoch 1/10:   9%|█▊                 | 39999/423238 [8:48:07<84:17:47,  1.26it/s]"
     ]
    },
    {
     "name": "stdout",
     "output_type": "stream",
     "text": [
      "40000 iterations, loss=0.013598773108219029\n"
     ]
    },
    {
     "name": "stderr",
     "output_type": "stream",
     "text": [
      "Epoch 1/10:  10%|█▊                 | 41000/423238 [9:01:20<83:58:17,  1.26it/s]"
     ]
    },
    {
     "name": "stdout",
     "output_type": "stream",
     "text": [
      "41000 iterations, loss=0.013596824175683872\n"
     ]
    },
    {
     "name": "stderr",
     "output_type": "stream",
     "text": [
      "Epoch 1/10:  10%|█▉                 | 42000/423238 [9:14:31<84:07:29,  1.26it/s]"
     ]
    },
    {
     "name": "stdout",
     "output_type": "stream",
     "text": [
      "42000 iterations, loss=0.013595913863912713\n"
     ]
    },
    {
     "name": "stderr",
     "output_type": "stream",
     "text": [
      "Epoch 1/10:  10%|█▉                 | 43000/423238 [9:27:42<83:37:15,  1.26it/s]"
     ]
    },
    {
     "name": "stdout",
     "output_type": "stream",
     "text": [
      "43000 iterations, loss=0.013590458841534158\n"
     ]
    },
    {
     "name": "stderr",
     "output_type": "stream",
     "text": [
      "Epoch 1/10:  10%|█▉                 | 44000/423238 [9:40:53<83:16:27,  1.27it/s]"
     ]
    },
    {
     "name": "stdout",
     "output_type": "stream",
     "text": [
      "44000 iterations, loss=0.013595064402679616\n"
     ]
    },
    {
     "name": "stderr",
     "output_type": "stream",
     "text": [
      "Epoch 1/10:  11%|██                 | 45000/423238 [9:54:04<83:08:11,  1.26it/s]"
     ]
    },
    {
     "name": "stdout",
     "output_type": "stream",
     "text": [
      "45000 iterations, loss=0.013591267920632122\n"
     ]
    },
    {
     "name": "stderr",
     "output_type": "stream",
     "text": [
      "Epoch 1/10:  11%|█▉                | 46000/423238 [10:07:15<82:41:12,  1.27it/s]"
     ]
    },
    {
     "name": "stdout",
     "output_type": "stream",
     "text": [
      "46000 iterations, loss=0.013588326849088924\n"
     ]
    },
    {
     "name": "stderr",
     "output_type": "stream",
     "text": [
      "Epoch 1/10:  11%|█▉                | 47000/423238 [10:20:25<82:41:44,  1.26it/s]"
     ]
    },
    {
     "name": "stdout",
     "output_type": "stream",
     "text": [
      "47000 iterations, loss=0.013582479746819058\n"
     ]
    },
    {
     "name": "stderr",
     "output_type": "stream",
     "text": [
      "Epoch 1/10:  11%|██                | 48000/423238 [10:33:36<82:38:55,  1.26it/s]"
     ]
    },
    {
     "name": "stdout",
     "output_type": "stream",
     "text": [
      "48000 iterations, loss=0.013592381889927008\n"
     ]
    },
    {
     "name": "stderr",
     "output_type": "stream",
     "text": [
      "Epoch 1/10:  12%|██                | 49000/423238 [10:46:47<82:08:44,  1.27it/s]"
     ]
    },
    {
     "name": "stdout",
     "output_type": "stream",
     "text": [
      "49000 iterations, loss=0.013590631894800547\n"
     ]
    },
    {
     "name": "stderr",
     "output_type": "stream",
     "text": [
      "Epoch 1/10:  12%|██▏               | 50000/423238 [10:59:57<81:58:04,  1.26it/s]"
     ]
    },
    {
     "name": "stdout",
     "output_type": "stream",
     "text": [
      "50000 iterations, loss=0.013593556546890177\n"
     ]
    },
    {
     "name": "stderr",
     "output_type": "stream",
     "text": [
      "Epoch 1/10:  12%|██▏               | 51000/423238 [11:13:08<81:46:37,  1.26it/s]"
     ]
    },
    {
     "name": "stdout",
     "output_type": "stream",
     "text": [
      "51000 iterations, loss=0.013598856820665556\n"
     ]
    },
    {
     "name": "stderr",
     "output_type": "stream",
     "text": [
      "Epoch 1/10:  12%|██▏               | 52000/423238 [11:26:18<81:32:17,  1.26it/s]"
     ]
    },
    {
     "name": "stdout",
     "output_type": "stream",
     "text": [
      "52000 iterations, loss=0.013596378885196127\n"
     ]
    },
    {
     "name": "stderr",
     "output_type": "stream",
     "text": [
      "Epoch 1/10:  13%|██▎               | 53000/423238 [11:39:28<81:03:35,  1.27it/s]"
     ]
    },
    {
     "name": "stdout",
     "output_type": "stream",
     "text": [
      "53000 iterations, loss=0.013593397854840523\n"
     ]
    },
    {
     "name": "stderr",
     "output_type": "stream",
     "text": [
      "Epoch 1/10:  13%|██▎               | 54000/423238 [11:52:35<80:40:42,  1.27it/s]"
     ]
    },
    {
     "name": "stdout",
     "output_type": "stream",
     "text": [
      "54000 iterations, loss=0.013585701457332578\n"
     ]
    },
    {
     "name": "stderr",
     "output_type": "stream",
     "text": [
      "Epoch 1/10:  13%|██▎               | 55000/423238 [12:05:41<80:18:26,  1.27it/s]"
     ]
    },
    {
     "name": "stdout",
     "output_type": "stream",
     "text": [
      "55000 iterations, loss=0.013587489146870477\n"
     ]
    },
    {
     "name": "stderr",
     "output_type": "stream",
     "text": [
      "Epoch 1/10:  13%|██▍               | 56000/423238 [12:18:46<79:59:18,  1.28it/s]"
     ]
    },
    {
     "name": "stdout",
     "output_type": "stream",
     "text": [
      "56000 iterations, loss=0.013587863823868767\n"
     ]
    },
    {
     "name": "stderr",
     "output_type": "stream",
     "text": [
      "Epoch 1/10:  13%|██▍               | 57000/423238 [12:31:51<79:50:59,  1.27it/s]"
     ]
    },
    {
     "name": "stdout",
     "output_type": "stream",
     "text": [
      "57000 iterations, loss=0.013589347518322858\n"
     ]
    },
    {
     "name": "stderr",
     "output_type": "stream",
     "text": [
      "Epoch 1/10:  14%|██▍               | 58000/423238 [12:44:55<79:31:08,  1.28it/s]"
     ]
    },
    {
     "name": "stdout",
     "output_type": "stream",
     "text": [
      "58000 iterations, loss=0.013587666493322667\n"
     ]
    },
    {
     "name": "stderr",
     "output_type": "stream",
     "text": [
      "Epoch 1/10:  14%|██▌               | 59000/423238 [12:58:00<79:18:10,  1.28it/s]"
     ]
    },
    {
     "name": "stdout",
     "output_type": "stream",
     "text": [
      "59000 iterations, loss=0.013591674861896752\n"
     ]
    },
    {
     "name": "stderr",
     "output_type": "stream",
     "text": [
      "Epoch 1/10:  14%|██▌               | 59999/423238 [13:11:04<79:15:04,  1.27it/s]"
     ]
    },
    {
     "name": "stdout",
     "output_type": "stream",
     "text": [
      "60000 iterations, loss=0.013588333576975855\n"
     ]
    },
    {
     "name": "stderr",
     "output_type": "stream",
     "text": [
      "Epoch 1/10:  14%|██▌               | 61000/423238 [13:24:10<78:53:02,  1.28it/s]"
     ]
    },
    {
     "name": "stdout",
     "output_type": "stream",
     "text": [
      "61000 iterations, loss=0.013593114286367248\n"
     ]
    },
    {
     "name": "stderr",
     "output_type": "stream",
     "text": [
      "Epoch 1/10:  15%|██▋               | 62000/423238 [13:37:15<78:47:34,  1.27it/s]"
     ]
    },
    {
     "name": "stdout",
     "output_type": "stream",
     "text": [
      "62000 iterations, loss=0.013591706273134708\n"
     ]
    },
    {
     "name": "stderr",
     "output_type": "stream",
     "text": [
      "Epoch 1/10:  15%|██▋               | 63000/423238 [13:50:19<78:38:46,  1.27it/s]"
     ]
    },
    {
     "name": "stdout",
     "output_type": "stream",
     "text": [
      "63000 iterations, loss=0.013591705400079104\n"
     ]
    },
    {
     "name": "stderr",
     "output_type": "stream",
     "text": [
      "Epoch 1/10:  15%|██▋               | 64000/423238 [14:03:24<78:21:40,  1.27it/s]"
     ]
    },
    {
     "name": "stdout",
     "output_type": "stream",
     "text": [
      "64000 iterations, loss=0.013596344603425677\n"
     ]
    },
    {
     "name": "stderr",
     "output_type": "stream",
     "text": [
      "Epoch 1/10:  15%|██▊               | 65000/423238 [14:16:29<78:17:13,  1.27it/s]"
     ]
    },
    {
     "name": "stdout",
     "output_type": "stream",
     "text": [
      "65000 iterations, loss=0.013589670501832062\n"
     ]
    },
    {
     "name": "stderr",
     "output_type": "stream",
     "text": [
      "Epoch 1/10:  16%|██▊               | 66000/423238 [14:29:35<77:48:19,  1.28it/s]"
     ]
    },
    {
     "name": "stdout",
     "output_type": "stream",
     "text": [
      "66000 iterations, loss=0.013588065239011704\n"
     ]
    },
    {
     "name": "stderr",
     "output_type": "stream",
     "text": [
      "Epoch 1/10:  16%|██▊               | 67000/423238 [14:42:40<77:47:11,  1.27it/s]"
     ]
    },
    {
     "name": "stdout",
     "output_type": "stream",
     "text": [
      "67000 iterations, loss=0.013592085795327604\n"
     ]
    },
    {
     "name": "stderr",
     "output_type": "stream",
     "text": [
      "Epoch 1/10:  16%|██▉               | 68000/423238 [14:55:46<77:15:18,  1.28it/s]"
     ]
    },
    {
     "name": "stdout",
     "output_type": "stream",
     "text": [
      "68000 iterations, loss=0.01359494354278671\n"
     ]
    },
    {
     "name": "stderr",
     "output_type": "stream",
     "text": [
      "Epoch 1/10:  16%|██▉               | 69000/423238 [15:08:51<77:15:28,  1.27it/s]"
     ]
    },
    {
     "name": "stdout",
     "output_type": "stream",
     "text": [
      "69000 iterations, loss=0.013591963742690944\n"
     ]
    },
    {
     "name": "stderr",
     "output_type": "stream",
     "text": [
      "Epoch 1/10:  17%|██▉               | 70000/423238 [15:21:57<76:44:19,  1.28it/s]"
     ]
    },
    {
     "name": "stdout",
     "output_type": "stream",
     "text": [
      "70000 iterations, loss=0.013589450964045577\n"
     ]
    },
    {
     "name": "stderr",
     "output_type": "stream",
     "text": [
      "Epoch 1/10:  17%|███               | 71000/423238 [15:35:03<77:03:53,  1.27it/s]"
     ]
    },
    {
     "name": "stdout",
     "output_type": "stream",
     "text": [
      "71000 iterations, loss=0.01358997178713227\n"
     ]
    },
    {
     "name": "stderr",
     "output_type": "stream",
     "text": [
      "Epoch 1/10:  17%|███               | 72000/423238 [15:48:09<76:49:42,  1.27it/s]"
     ]
    },
    {
     "name": "stdout",
     "output_type": "stream",
     "text": [
      "72000 iterations, loss=0.013587539529770664\n"
     ]
    },
    {
     "name": "stderr",
     "output_type": "stream",
     "text": [
      "Epoch 1/10:  17%|███               | 73000/423238 [16:01:16<76:33:15,  1.27it/s]"
     ]
    },
    {
     "name": "stdout",
     "output_type": "stream",
     "text": [
      "73000 iterations, loss=0.013587556666713718\n"
     ]
    },
    {
     "name": "stderr",
     "output_type": "stream",
     "text": [
      "Epoch 1/10:  17%|███▏              | 74000/423238 [16:14:23<76:14:48,  1.27it/s]"
     ]
    },
    {
     "name": "stdout",
     "output_type": "stream",
     "text": [
      "74000 iterations, loss=0.01358829476939187\n"
     ]
    },
    {
     "name": "stderr",
     "output_type": "stream",
     "text": [
      "Epoch 1/10:  18%|███▏              | 75000/423238 [16:27:29<76:12:58,  1.27it/s]"
     ]
    },
    {
     "name": "stdout",
     "output_type": "stream",
     "text": [
      "75000 iterations, loss=0.013585058648375174\n"
     ]
    },
    {
     "name": "stderr",
     "output_type": "stream",
     "text": [
      "Epoch 1/10:  18%|███▏              | 76000/423238 [16:40:37<76:02:06,  1.27it/s]"
     ]
    },
    {
     "name": "stdout",
     "output_type": "stream",
     "text": [
      "76000 iterations, loss=0.013585431879276017\n"
     ]
    },
    {
     "name": "stderr",
     "output_type": "stream",
     "text": [
      "Epoch 1/10:  18%|███▎              | 77000/423238 [16:53:44<75:49:27,  1.27it/s]"
     ]
    },
    {
     "name": "stdout",
     "output_type": "stream",
     "text": [
      "77000 iterations, loss=0.013582867122606023\n"
     ]
    },
    {
     "name": "stderr",
     "output_type": "stream",
     "text": [
      "Epoch 1/10:  18%|███▎              | 78000/423238 [17:06:52<75:28:46,  1.27it/s]"
     ]
    },
    {
     "name": "stdout",
     "output_type": "stream",
     "text": [
      "78000 iterations, loss=0.01358552216223847\n"
     ]
    },
    {
     "name": "stderr",
     "output_type": "stream",
     "text": [
      "Epoch 1/10:  19%|███▎              | 79000/423238 [17:20:00<75:31:28,  1.27it/s]"
     ]
    },
    {
     "name": "stdout",
     "output_type": "stream",
     "text": [
      "79000 iterations, loss=0.013586943021073607\n"
     ]
    },
    {
     "name": "stderr",
     "output_type": "stream",
     "text": [
      "Epoch 1/10:  19%|███▍              | 79999/423238 [17:33:07<74:55:40,  1.27it/s]"
     ]
    },
    {
     "name": "stdout",
     "output_type": "stream",
     "text": [
      "80000 iterations, loss=0.013585385037516244\n"
     ]
    },
    {
     "name": "stderr",
     "output_type": "stream",
     "text": [
      "Epoch 1/10:  19%|███▍              | 81000/423238 [17:46:17<74:59:52,  1.27it/s]"
     ]
    },
    {
     "name": "stdout",
     "output_type": "stream",
     "text": [
      "81000 iterations, loss=0.013585846513601733\n"
     ]
    },
    {
     "name": "stderr",
     "output_type": "stream",
     "text": [
      "Epoch 1/10:  19%|███▍              | 82000/423238 [17:59:26<74:49:49,  1.27it/s]"
     ]
    },
    {
     "name": "stdout",
     "output_type": "stream",
     "text": [
      "82000 iterations, loss=0.013581958901511914\n"
     ]
    },
    {
     "name": "stderr",
     "output_type": "stream",
     "text": [
      "Epoch 1/10:  20%|███▌              | 83000/423238 [18:12:36<74:35:11,  1.27it/s]"
     ]
    },
    {
     "name": "stdout",
     "output_type": "stream",
     "text": [
      "83000 iterations, loss=0.013582739916248584\n"
     ]
    },
    {
     "name": "stderr",
     "output_type": "stream",
     "text": [
      "Epoch 1/10:  20%|███▌              | 84000/423238 [18:25:44<74:13:47,  1.27it/s]"
     ]
    },
    {
     "name": "stdout",
     "output_type": "stream",
     "text": [
      "84000 iterations, loss=0.01358077776912112\n"
     ]
    },
    {
     "name": "stderr",
     "output_type": "stream",
     "text": [
      "Epoch 1/10:  20%|███▌              | 85000/423238 [18:38:51<74:11:23,  1.27it/s]"
     ]
    },
    {
     "name": "stdout",
     "output_type": "stream",
     "text": [
      "85000 iterations, loss=0.01357780966274988\n"
     ]
    },
    {
     "name": "stderr",
     "output_type": "stream",
     "text": [
      "Epoch 1/10:  20%|███▋              | 86000/423238 [18:51:59<73:32:09,  1.27it/s]"
     ]
    },
    {
     "name": "stdout",
     "output_type": "stream",
     "text": [
      "86000 iterations, loss=0.013578846217772035\n"
     ]
    },
    {
     "name": "stderr",
     "output_type": "stream",
     "text": [
      "Epoch 1/10:  21%|███▋              | 87000/423238 [19:05:06<73:38:01,  1.27it/s]"
     ]
    },
    {
     "name": "stdout",
     "output_type": "stream",
     "text": [
      "87000 iterations, loss=0.01357782199241799\n"
     ]
    },
    {
     "name": "stderr",
     "output_type": "stream",
     "text": [
      "Epoch 1/10:  21%|███▋              | 88000/423238 [19:18:14<73:17:45,  1.27it/s]"
     ]
    },
    {
     "name": "stdout",
     "output_type": "stream",
     "text": [
      "88000 iterations, loss=0.013577828480909706\n"
     ]
    },
    {
     "name": "stderr",
     "output_type": "stream",
     "text": [
      "Epoch 1/10:  21%|███▊              | 89000/423238 [19:31:22<72:59:49,  1.27it/s]"
     ]
    },
    {
     "name": "stdout",
     "output_type": "stream",
     "text": [
      "89000 iterations, loss=0.013577972289153866\n"
     ]
    },
    {
     "name": "stderr",
     "output_type": "stream",
     "text": [
      "Epoch 1/10:  21%|███▊              | 90000/423238 [19:44:29<72:53:20,  1.27it/s]"
     ]
    },
    {
     "name": "stdout",
     "output_type": "stream",
     "text": [
      "90000 iterations, loss=0.013576654145483756\n"
     ]
    },
    {
     "name": "stderr",
     "output_type": "stream",
     "text": [
      "Epoch 1/10:  22%|███▊              | 91000/423238 [19:57:37<72:37:28,  1.27it/s]"
     ]
    },
    {
     "name": "stdout",
     "output_type": "stream",
     "text": [
      "91000 iterations, loss=0.01357676889877357\n"
     ]
    },
    {
     "name": "stderr",
     "output_type": "stream",
     "text": [
      "Epoch 1/10:  22%|███▉              | 92000/423238 [20:10:43<72:18:28,  1.27it/s]"
     ]
    },
    {
     "name": "stdout",
     "output_type": "stream",
     "text": [
      "92000 iterations, loss=0.013574689296438642\n"
     ]
    },
    {
     "name": "stderr",
     "output_type": "stream",
     "text": [
      "Epoch 1/10:  22%|███▉              | 93000/423238 [20:23:51<72:23:10,  1.27it/s]"
     ]
    },
    {
     "name": "stdout",
     "output_type": "stream",
     "text": [
      "93000 iterations, loss=0.013575232949418327\n"
     ]
    },
    {
     "name": "stderr",
     "output_type": "stream",
     "text": [
      "Epoch 1/10:  22%|███▉              | 94000/423238 [20:36:58<71:51:35,  1.27it/s]"
     ]
    },
    {
     "name": "stdout",
     "output_type": "stream",
     "text": [
      "94000 iterations, loss=0.013574711387342913\n"
     ]
    },
    {
     "name": "stderr",
     "output_type": "stream",
     "text": [
      "Epoch 1/10:  22%|████              | 95000/423238 [20:50:05<71:37:58,  1.27it/s]"
     ]
    },
    {
     "name": "stdout",
     "output_type": "stream",
     "text": [
      "95000 iterations, loss=0.013573711188181646\n"
     ]
    },
    {
     "name": "stderr",
     "output_type": "stream",
     "text": [
      "Epoch 1/10:  23%|████              | 96000/423238 [21:03:13<71:31:56,  1.27it/s]"
     ]
    },
    {
     "name": "stdout",
     "output_type": "stream",
     "text": [
      "96000 iterations, loss=0.01357583971505422\n"
     ]
    },
    {
     "name": "stderr",
     "output_type": "stream",
     "text": [
      "Epoch 1/10:  23%|████▏             | 97000/423238 [21:16:20<71:16:31,  1.27it/s]"
     ]
    },
    {
     "name": "stdout",
     "output_type": "stream",
     "text": [
      "97000 iterations, loss=0.013570954123372692\n"
     ]
    },
    {
     "name": "stderr",
     "output_type": "stream",
     "text": [
      "Epoch 1/10:  23%|████▏             | 98000/423238 [21:29:28<71:18:24,  1.27it/s]"
     ]
    },
    {
     "name": "stdout",
     "output_type": "stream",
     "text": [
      "98000 iterations, loss=0.013571491009864614\n"
     ]
    },
    {
     "name": "stderr",
     "output_type": "stream",
     "text": [
      "Epoch 1/10:  23%|████▏             | 99000/423238 [21:42:36<70:57:28,  1.27it/s]"
     ]
    },
    {
     "name": "stdout",
     "output_type": "stream",
     "text": [
      "99000 iterations, loss=0.013569438722864207\n"
     ]
    },
    {
     "name": "stderr",
     "output_type": "stream",
     "text": [
      "Epoch 1/10:  24%|████▎             | 99999/423238 [21:55:43<70:44:21,  1.27it/s]"
     ]
    },
    {
     "name": "stdout",
     "output_type": "stream",
     "text": [
      "100000 iterations, loss=0.01356817735962104\n"
     ]
    },
    {
     "name": "stderr",
     "output_type": "stream",
     "text": [
      "Epoch 1/10:  24%|████             | 101000/423238 [22:08:53<70:52:02,  1.26it/s]"
     ]
    },
    {
     "name": "stdout",
     "output_type": "stream",
     "text": [
      "101000 iterations, loss=0.013564865579824009\n"
     ]
    },
    {
     "name": "stderr",
     "output_type": "stream",
     "text": [
      "Epoch 1/10:  24%|████             | 102000/423238 [22:22:01<70:41:28,  1.26it/s]"
     ]
    },
    {
     "name": "stdout",
     "output_type": "stream",
     "text": [
      "102000 iterations, loss=0.013565911631200316\n"
     ]
    },
    {
     "name": "stderr",
     "output_type": "stream",
     "text": [
      "Epoch 1/10:  24%|████▏            | 103000/423238 [22:35:10<70:10:07,  1.27it/s]"
     ]
    },
    {
     "name": "stdout",
     "output_type": "stream",
     "text": [
      "103000 iterations, loss=0.013566217427087713\n"
     ]
    },
    {
     "name": "stderr",
     "output_type": "stream",
     "text": [
      "Epoch 1/10:  25%|████▏            | 104000/423238 [22:48:20<69:55:56,  1.27it/s]"
     ]
    },
    {
     "name": "stdout",
     "output_type": "stream",
     "text": [
      "104000 iterations, loss=0.013562135885671104\n"
     ]
    },
    {
     "name": "stderr",
     "output_type": "stream",
     "text": [
      "Epoch 1/10:  25%|████▏            | 105000/423238 [23:01:30<72:28:17,  1.22it/s]"
     ]
    },
    {
     "name": "stdout",
     "output_type": "stream",
     "text": [
      "105000 iterations, loss=0.013557707087904037\n"
     ]
    },
    {
     "name": "stderr",
     "output_type": "stream",
     "text": [
      "Epoch 1/10:  25%|████▏            | 105210/423238 [23:04:20<69:44:33,  1.27it/s]\n",
      "\n",
      "KeyboardInterrupt\n",
      "\n"
     ]
    }
   ],
   "source": [
    "num_epochs = 10\n",
    "num_its = 0\n",
    "\n",
    "for epoch in range(num_epochs):\n",
    "    model.train()\n",
    "    total_loss = 0\n",
    "\n",
    "    for batch in tqdm(train_dataloader, desc=f\"Epoch {epoch + 1}/{num_epochs}\"):\n",
    "        input_ids = batch[\"input_ids\"].to(device)\n",
    "        attention_mask = batch[\"attention_mask\"].to(device)\n",
    "        labels = batch[\"labels\"].to(device)\n",
    "\n",
    "        outputs = model(input_ids=input_ids, attention_mask=attention_mask, labels=labels)\n",
    "        loss = outputs.loss\n",
    "        total_loss += loss.item()\n",
    "\n",
    "        optimizer.zero_grad()\n",
    "        loss.backward()\n",
    "        optimizer.step()\n",
    "        num_its += 1\n",
    "        if num_its % 1000 == 0:\n",
    "            print(f\"{num_its} iterations, loss={total_loss/num_its}\")\n",
    "        if num_its % 20000 == 0:\n",
    "            save_path = f\"./models/flan_base/trained_model_{600000 + num_its}\"\n",
    "#             os.makedirs(save_path, exist_ok=True)\n",
    "            model.save_pretrained(save_path)\n",
    "    \n",
    "    # Save the model after each epoch\n",
    "#     save_path = f\"./models/flan_base/trained_model_epoch_{epoch + 1}\"\n",
    "#     os.makedirs(save_path, exist_ok=True)\n",
    "#     model.save_pretrained(save_path)\n",
    "#     torch.save(model, save_path)\n",
    "#     tokenizer.save_pretrained(save_path)\n",
    "    \n",
    "    avg_train_loss = total_loss / len(train_dataloader)\n",
    "    avg_test_loss = evaluate(model, test_dataloader, device)\n",
    "\n",
    "    print(f\"Epoch {epoch + 1}/{num_epochs}\")\n",
    "    print(f\"Average Train Loss: {avg_train_loss:.4f}\")\n",
    "    print(f\"Average Test Loss: {avg_test_loss:.4f}\")"
   ]
  },
  {
   "cell_type": "code",
   "execution_count": null,
   "id": "cc3647e2",
   "metadata": {},
   "outputs": [],
   "source": [
    "torch.save(model, \"trained_model_697k\")"
   ]
  },
  {
   "cell_type": "code",
   "execution_count": null,
   "id": "a8bca34c",
   "metadata": {},
   "outputs": [],
   "source": [
    "torch.save(model, \"trained_model_reproverfinetuned\")"
   ]
  }
 ],
 "metadata": {
  "kernelspec": {
   "display_name": "atp",
   "language": "python",
   "name": "atp"
  },
  "language_info": {
   "codemirror_mode": {
    "name": "ipython",
    "version": 3
   },
   "file_extension": ".py",
   "mimetype": "text/x-python",
   "name": "python",
   "nbconvert_exporter": "python",
   "pygments_lexer": "ipython3",
   "version": "3.10.13"
  }
 },
 "nbformat": 4,
 "nbformat_minor": 5
}
