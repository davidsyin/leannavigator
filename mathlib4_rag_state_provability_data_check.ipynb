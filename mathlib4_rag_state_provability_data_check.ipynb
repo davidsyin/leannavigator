{
 "cells": [
  {
   "cell_type": "code",
   "execution_count": 12,
   "id": "5bae0573",
   "metadata": {},
   "outputs": [],
   "source": [
    "import os\n",
    "\n",
    "# os.environ['GITHUB_ACCESS_TOKEN'] = ''\n",
    "\n",
    "# print(os.getenv(\"GITHUB_ACCESS_TOKEN\", None))\n",
    "\n",
    "from lean_dojo import *"
   ]
  },
  {
   "cell_type": "code",
   "execution_count": 14,
   "id": "4526165b",
   "metadata": {},
   "outputs": [
    {
     "data": {
      "text/plain": [
       "LeanGitRepo(url='https://github.com/leanprover-community/mathlib4', commit='27c6744e1c0e25d676be5eb252cd4b6d30c6acc7')"
      ]
     },
     "execution_count": 14,
     "metadata": {},
     "output_type": "execute_result"
    }
   ],
   "source": [
    "repo = LeanGitRepo(\n",
    "    #\"https://github.com/xiaoxin-yin/math-in-lean\",\n",
    "    #\"20077bcd4392317ddb9605404fda3a85e40e8956\"\n",
    "    \"https://github.com/leanprover-community/mathlib4\",\n",
    "    \"27c6744e1c0e25d676be5eb252cd4b6d30c6acc7\",\n",
    ")\n",
    "\n",
    "repo"
   ]
  },
  {
   "cell_type": "code",
   "execution_count": 3,
   "id": "1533dcfd",
   "metadata": {},
   "outputs": [],
   "source": [
    "import pickle\n",
    "\n",
    "#fin = open('/home/mcwave/code/automath/atp/datasets/traced_repo_math_in_lean.pkl', 'rb')\n",
    "fin = open('/home/mcwave/code/automath/atp/datasets/traced_repo_mathlib4_20240617.pkl', 'rb')\n",
    "traced_repo = pickle.load(fin)\n",
    "fin.close()"
   ]
  },
  {
   "cell_type": "code",
   "execution_count": 15,
   "id": "2cd159f2",
   "metadata": {
    "scrolled": true
   },
   "outputs": [
    {
     "name": "stderr",
     "output_type": "stream",
     "text": [
      "\u001b[32m2024-06-30 20:18:07.889\u001b[0m | \u001b[33m\u001b[1mWARNING \u001b[0m | \u001b[36mlean_dojo.interaction.dojo\u001b[0m:\u001b[36m__init__\u001b[0m:\u001b[36m156\u001b[0m - \u001b[33m\u001b[1mUsing Lean 4 without a hard timeout may hang indefinitely.\u001b[0m\n",
      "\u001b[32m2024-06-30 20:18:07.894\u001b[0m | \u001b[1mINFO    \u001b[0m | \u001b[36mlean_dojo.interaction.dojo\u001b[0m:\u001b[36m__enter__\u001b[0m:\u001b[36m168\u001b[0m - \u001b[1mInitializing Dojo for Theorem(repo=LeanGitRepo(url='https://github.com/leanprover-community/mathlib4', commit='27c6744e1c0e25d676be5eb252cd4b6d30c6acc7'), file_path=PosixPath('Mathlib/Data/Nat/ModEq.lean'), full_name='Nat.modEq_iff_dvd')\u001b[0m\n",
      "\u001b[32m2024-06-30 20:18:07.899\u001b[0m | \u001b[1mINFO    \u001b[0m | \u001b[36mlean_dojo.interaction.dojo\u001b[0m:\u001b[36m__enter__\u001b[0m:\u001b[36m187\u001b[0m - \u001b[1mCopy tree ...\u001b[0m\n"
     ]
    },
    {
     "name": "stdout",
     "output_type": "stream",
     "text": [
      "get_traced_repo_path, path= /home/mcwave/.cache/lean_dojo/leanprover-community-mathlib4-27c6744e1c0e25d676be5eb252cd4b6d30c6acc7/mathlib4\n",
      "The traced repo is available in the cache.\n"
     ]
    },
    {
     "name": "stderr",
     "output_type": "stream",
     "text": [
      "\u001b[32m2024-06-30 20:18:13.266\u001b[0m | \u001b[1mINFO    \u001b[0m | \u001b[36mlean_dojo.interaction.dojo\u001b[0m:\u001b[36m_modify_file\u001b[0m:\u001b[36m385\u001b[0m - \u001b[1mModifying Mathlib/Data/Nat/ModEq.lean\u001b[0m\n",
      "\u001b[32m2024-06-30 20:18:13.274\u001b[0m | \u001b[1mINFO    \u001b[0m | \u001b[36mlean_dojo.interaction.dojo\u001b[0m:\u001b[36m_modify_file\u001b[0m:\u001b[36m407\u001b[0m - \u001b[1m_modify_file: proof modified\u001b[0m\n",
      "\u001b[32m2024-06-30 20:18:13.281\u001b[0m | \u001b[1mINFO    \u001b[0m | \u001b[36mlean_dojo.interaction.dojo\u001b[0m:\u001b[36m_modify_file\u001b[0m:\u001b[36m425\u001b[0m - \u001b[1mCreating Lean4Repl.lean at Lean4Repl.lean\u001b[0m\n",
      "\u001b[32m2024-06-30 20:18:13.282\u001b[0m | \u001b[1mINFO    \u001b[0m | \u001b[36mlean_dojo.interaction.dojo\u001b[0m:\u001b[36m_modify_file\u001b[0m:\u001b[36m434\u001b[0m - \u001b[1m_modify_file: Done writing to Lean4Repl.lean\u001b[0m\n",
      "\u001b[32m2024-06-30 20:18:13.283\u001b[0m | \u001b[1mINFO    \u001b[0m | \u001b[36mlean_dojo.interaction.dojo\u001b[0m:\u001b[36m_modify_file\u001b[0m:\u001b[36m439\u001b[0m - \u001b[1m_modify_file: All done. Writing to /tmp/tmpseq0xgxw/mathlib4/Mathlib/Data/Nat/ModEq.lean\u001b[0m\n",
      "\u001b[32m2024-06-30 20:18:13.283\u001b[0m | \u001b[1mINFO    \u001b[0m | \u001b[36mlean_dojo.interaction.dojo\u001b[0m:\u001b[36m__enter__\u001b[0m:\u001b[36m207\u001b[0m - \u001b[1mlake build Lean4Repl ...\u001b[0m\n",
      "\u001b[32m2024-06-30 20:18:13.284\u001b[0m | \u001b[1mINFO    \u001b[0m | \u001b[36mlean_dojo.interaction.dojo\u001b[0m:\u001b[36m__enter__\u001b[0m:\u001b[36m210\u001b[0m - \u001b[1mLaunching the proof using <class 'lean_dojo.container.NativeContainer'>\u001b[0m\n",
      "\u001b[32m2024-06-30 20:18:13.284\u001b[0m | \u001b[1mINFO    \u001b[0m | \u001b[36mlean_dojo.container\u001b[0m:\u001b[36mrun\u001b[0m:\u001b[36m181\u001b[0m - \u001b[1mMounting[Mount(src=PosixPath('/tmp/tmpseq0xgxw/mathlib4'), dst=PosixPath('/workspace/mathlib4'))]\u001b[0m\n",
      "\u001b[32m2024-06-30 20:18:18.270\u001b[0m | \u001b[1mINFO    \u001b[0m | \u001b[36mlean_dojo.container\u001b[0m:\u001b[36mrun\u001b[0m:\u001b[36m185\u001b[0m - \u001b[1mlake build Lean4Repl\u001b[0m\n",
      "\u001b[32m2024-06-30 20:19:07.223\u001b[0m | \u001b[1mINFO    \u001b[0m | \u001b[36mlean_dojo.interaction.dojo\u001b[0m:\u001b[36m__enter__\u001b[0m:\u001b[36m229\u001b[0m - \u001b[1mrun_interactive ...\u001b[0m\n",
      "\u001b[32m2024-06-30 20:19:35.190\u001b[0m | \u001b[1mINFO    \u001b[0m | \u001b[36mlean_dojo.container\u001b[0m:\u001b[36mrun_interactive\u001b[0m:\u001b[36m216\u001b[0m - \u001b[1mWORKDIR before: /workspace/mathlib4\u001b[0m\n",
      "\u001b[32m2024-06-30 20:19:35.191\u001b[0m | \u001b[1mINFO    \u001b[0m | \u001b[36mlean_dojo.container\u001b[0m:\u001b[36mrun_interactive\u001b[0m:\u001b[36m224\u001b[0m - \u001b[1mWORKDIR after: /tmp/tmpseq0xgxw/mathlib4/workspace/mathlib4\u001b[0m\n",
      "\u001b[32m2024-06-30 20:19:35.192\u001b[0m | \u001b[1mINFO    \u001b[0m | \u001b[36mlean_dojo.container\u001b[0m:\u001b[36mrun_interactive\u001b[0m:\u001b[36m226\u001b[0m - \u001b[1mWORKDIR: /tmp/tmpseq0xgxw/mathlib4/workspace/mathlib4 CMD: lake env lean --threads=1 --memory=32768 Mathlib/Data/Nat/ModEq.lean\u001b[0m\n",
      "\u001b[32m2024-06-30 20:19:36.581\u001b[0m | \u001b[1mINFO    \u001b[0m | \u001b[36mlean_dojo.interaction.dojo\u001b[0m:\u001b[36m__enter__\u001b[0m:\u001b[36m269\u001b[0m - \u001b[1minit_state:TacticState(pp='m n a b c d : ℕ\\n⊢ a ≡ b [MOD n] ↔ ↑n ∣ ↑b - ↑a', id=0, message=None)\u001b[0m\n"
     ]
    },
    {
     "name": "stdout",
     "output_type": "stream",
     "text": [
      "Post processing ...\n",
      "Returning ...\n"
     ]
    }
   ],
   "source": [
    "from utils.lean_math_utils import *\n",
    "\n",
    "#theorem = Theorem(repo, \"MIL/C02_Basics/solutions/Solutions_S04_More_on_Order_and_Divisibility.lean\",\n",
    "#                 \"C02S04.Solutions_S04_More_on_Order_and_Divisibility_ex1\")\n",
    "\n",
    "theorem = Theorem(repo, \"Mathlib/Data/Nat/ModEq.lean\",\n",
    "                     \"Nat.modEq_iff_dvd\")\n",
    "\n",
    "dojo, state_0 = Dojo(theorem).__enter__()"
   ]
  },
  {
   "cell_type": "code",
   "execution_count": 5,
   "id": "3b34397f",
   "metadata": {},
   "outputs": [
    {
     "name": "stdout",
     "output_type": "stream",
     "text": [
      "a b c : ℝ\n",
      "⊢ a * b * c = b * (a * c)\n"
     ]
    },
    {
     "data": {
      "text/plain": [
       "({'a': 'variable', 'b': 'variable', 'c': 'variable'},\n",
       " {'a': 'ℝ', 'b': 'ℝ', 'c': 'ℝ'})"
      ]
     },
     "execution_count": 5,
     "metadata": {},
     "output_type": "execute_result"
    }
   ],
   "source": [
    "state_1 = dojo.run_tac(state_0, \"rw [← mul_assoc]\")\n",
    "\n",
    "#print(state_1)\n",
    "print(state_1.pp)\n",
    "classify_lean_elements(state_1.pp)"
   ]
  },
  {
   "cell_type": "code",
   "execution_count": 6,
   "id": "91a4821c",
   "metadata": {},
   "outputs": [
    {
     "name": "stdout",
     "output_type": "stream",
     "text": [
      "TacticState(pp='a b c : ℝ\\n⊢ b * a * c = b * (a * c)', id=2, message='')\n"
     ]
    }
   ],
   "source": [
    "state_2 = dojo.run_tac(state_1, \"rw [mul_comm a]\") \n",
    "\n",
    "print(state_2)"
   ]
  },
  {
   "cell_type": "code",
   "execution_count": 57,
   "id": "0db030e5",
   "metadata": {},
   "outputs": [
    {
     "name": "stdout",
     "output_type": "stream",
     "text": [
      "Ran out of input\n",
      "16225 states loaded\n",
      "Theorems:\n",
      "Polynomial.derivative_C_mul_X_pow\n",
      "Polynomial.derivative_X_pow\n",
      "Polynomial.derivative_C_mul_X_sq\n",
      "Polynomial.iterate_derivative_zero\n",
      "Polynomial.coeff_derivative\n",
      "Polynomial.derivative_monomial\n",
      "Polynomial.derivative_C_mul_X\n",
      "Polynomial.derivative_apply\n",
      "Polynomial.derivative_zero\n"
     ]
    }
   ],
   "source": [
    "import pickle\n",
    "\n",
    "results = []\n",
    "#fin = open('/home/mcwave/code/automath/atp/datasets/provability/rag/mathlib__Mathlib__RingTheory__Coprime__Basic.lean.pkl', 'rb')\n",
    "#fin = open('/home/mcwave/code/automath/atp/datasets/provability/rag/mathlib__Mathlib__Data__Nat__PrimeFin.lean.pkl', 'rb')\n",
    "#fin = open('/home/mcwave/code/automath/atp/datasets/provability/rag/mathlib__Mathlib__Algebra__Regular__Basic.lean.pkl', 'rb')\n",
    "fin = open('/home/mcwave/code/automath/atp/datasets/provability/rag/Mathlib__Algebra__Polynomial__Derivative.lean.pkl', 'rb')\n",
    "\n",
    "while True:\n",
    "    try:\n",
    "        result = pickle.load(fin)\n",
    "    except Exception as e:\n",
    "        print(e)\n",
    "        break\n",
    "#     print(result)\n",
    "    file_path, full_name, theorem, state_pair = result\n",
    "    results.append(result)\n",
    "\n",
    "fin.close()\n",
    "\n",
    "print(len(results), \"states loaded\")\n",
    "\n",
    "theorems = set()\n",
    "for file_path, full_name, theorem, state_pair in results:\n",
    "    if state_pair != None:\n",
    "        theorems.add(full_name)\n",
    "print(\"Theorems:\")\n",
    "for full_name in theorems:\n",
    "    print(full_name)"
   ]
  },
  {
   "cell_type": "code",
   "execution_count": 61,
   "id": "3566fb2c",
   "metadata": {},
   "outputs": [
    {
     "data": {
      "text/plain": [
       "('Mathlib/Algebra/Polynomial/Derivative.lean',\n",
       " 'Polynomial.derivative_apply',\n",
       " Theorem(repo=LeanGitRepo(url='https://github.com/leanprover-community/mathlib4', commit='27c6744e1c0e25d676be5eb252cd4b6d30c6acc7'), file_path=PosixPath('Mathlib/Algebra/Polynomial/Derivative.lean'), full_name='Polynomial.derivative_apply'),\n",
       " (TacticState(pp='R : Type u\\nS : Type v\\nT : Type w\\nι : Type y\\nA : Type z\\na b : R\\nn : ℕ\\ninst✝ : Semiring R\\np : R[X]\\n⊢ (p.sum fun n a => C (a * ↑n) * X ^ (n - 1)) = derivative p', id=8, message=''),\n",
       "  ProofFinished(tactic_state_id=1355, message=''),\n",
       "  4,\n",
       "  ['rw [eq_comm]', 'ext1 nvar0', 'cases p', 'rw [⊢] at nvar0'],\n",
       "  ['intros', 'rw [eq_comm]', 'intros', 'ring', 'push_cast']))"
      ]
     },
     "execution_count": 61,
     "metadata": {},
     "output_type": "execute_result"
    }
   ],
   "source": [
    "results[23]"
   ]
  },
  {
   "cell_type": "code",
   "execution_count": null,
   "id": "b0914b41",
   "metadata": {},
   "outputs": [],
   "source": [
    "#Derivative: 273MB/16225 states\n",
    "#Matrix/Block: 4.19GB/240816 states\n",
    "#Total: ~3M states, 17KB/state"
   ]
  },
  {
   "cell_type": "code",
   "execution_count": 29,
   "id": "da404937",
   "metadata": {},
   "outputs": [],
   "source": [
    "SELECTED_THEOREM = 'Polynomial.derivative_C'\n",
    "\n",
    "def is_pp_useful(pp):\n",
    "    lines = pp.split('\\n')\n",
    "    targets = []\n",
    "    conditions = []\n",
    "    min_freq = 1000000\n",
    "    for line in lines:\n",
    "        if line.startswith(\"⊢\"):\n",
    "            target = line.strip()\n",
    "            targets.append(target)\n",
    "        else:\n",
    "            conditions.append(line.strip())\n",
    "    if '⊢ False' in targets:\n",
    "        return False\n",
    "    if '⊢ R' in targets:\n",
    "        return False\n",
    "    if '?m.' in pp:\n",
    "        return False\n",
    "    return True\n",
    "\n",
    "num_output = 0\n",
    "for i in range(len(results)):\n",
    "    file_path, full_name, theorem, state_pair = results[i]\n",
    "    if full_name != SELECTED_THEOREM: #'IsCoprime.of_mul_right_left': #'IsCoprime.mul_right':'\n",
    "        continue\n",
    "    if results[i][3] == None:\n",
    "        continue\n",
    "    if not is_pp_useful(results[i][3][0].pp):\n",
    "        continue\n",
    "    print(\"EXAMPLE\", i)\n",
    "    print(results[i][3][0].pp)\n",
    "    print(\"thm\", theorem)\n",
    "    print()\n",
    "    num_output += 1\n",
    "    if num_output > 4000:\n",
    "        break"
   ]
  },
  {
   "cell_type": "code",
   "execution_count": 37,
   "id": "83b57997",
   "metadata": {},
   "outputs": [
    {
     "name": "stdout",
     "output_type": "stream",
     "text": [
      "l : Type u_1\n",
      "m : Type u_2\n",
      "n : Type u_3\n",
      "o : Type u_4\n",
      "p : Type u_5\n",
      "q : Type u_6\n",
      "m' : o → Type u_7\n",
      "n' : o → Type u_8\n",
      "p' : o → Type u_9\n",
      "R : Type u_10\n",
      "S : Type u_11\n",
      "α : Type u_12\n",
      "β : Type u_13\n",
      "A : Matrix n l α\n",
      "B : Matrix n m α\n",
      "C : Matrix o l α\n",
      "D : Matrix o m α\n",
      "i : o\n",
      "j : l\n",
      "nvar0 : ¬C i j = A.fromBlocks B C D (Sum.inr i) (Sum.inl j)\n",
      "⊢ C i j = A.fromBlocks B C D (Sum.inr i) (Sum.inl j)\n",
      "\n",
      "Tactics:\n",
      "by_contra nvar0\n",
      "by_contra! nvar1\n",
      "by_contra nvar1\n",
      "refine' False.elim (nvar1 _)\n",
      "apply nvar0\n",
      "refine' False.elim (nvar0 _)\n",
      "norm_num\n",
      "ring\n",
      "rw [← eq_comm]\n",
      "rw [eq_comm]\n",
      "symm\n",
      "norm_num\n",
      "ring\n",
      "push_cast\n",
      "contrapose! nvar0\n",
      "norm_num\n",
      "ring\n",
      "simp_all\n",
      "norm_num\n",
      "ring\n",
      "rw [← eq_comm]\n",
      "rw [eq_comm]\n",
      "symm\n",
      "norm_num\n",
      "ring\n",
      "push_cast\n",
      "intros\n"
     ]
    }
   ],
   "source": [
    "result_idx = 8151\n",
    "\n",
    "print(results[result_idx][3][0].pp)\n",
    "\n",
    "print(\"\\nTactics:\")\n",
    "for tactic in results[result_idx][-1][-1]:\n",
    "    print(tactic)"
   ]
  },
  {
   "cell_type": "code",
   "execution_count": 77,
   "id": "7ed7692a",
   "metadata": {},
   "outputs": [
    {
     "data": {
      "text/plain": [
       "(TacticState(pp='case succ\\nn kk : ℕ\\nkih : hyperoperation (n + 4) 0 kk = if Even kk then 1 else 0\\n⊢ hyperoperation (n + 4) 0 (kk + 1) = if Even (kk + 1) then 1 else 0', id=2, message=''),\n",
       " ProofFinished(tactic_state_id=3, message=''),\n",
       " 1,\n",
       " ['· rw [hyperoperation_recursion]\\n  rw [kih]\\n  simp_rw [Nat.even_add_one]\\n  split_ifs\\n  · exact hyperoperation_ge_two_eq_self (n + 1) 0\\n  · exact hyperoperation_ge_three_eq_one n 0'])"
      ]
     },
     "execution_count": 77,
     "metadata": {},
     "output_type": "execute_result"
    }
   ],
   "source": [
    "results[149][-1]"
   ]
  },
  {
   "cell_type": "code",
   "execution_count": 19,
   "id": "2899e33c",
   "metadata": {},
   "outputs": [],
   "source": [
    "fin = open('/home/mcwave/code/automath/atp/datasets/train_theorems_repo_mathlib4_20240617.pkl', 'rb')\n",
    "train_theorems = pickle.load(fin)\n",
    "fin.close()"
   ]
  },
  {
   "cell_type": "code",
   "execution_count": 22,
   "id": "5e2c7d1e",
   "metadata": {},
   "outputs": [
    {
     "data": {
      "text/plain": [
       "{'isRegular_iff': (Theorem(repo=LeanGitRepo(url='https://github.com/leanprover-community/mathlib4', commit='27c6744e1c0e25d676be5eb252cd4b6d30c6acc7'), file_path=PosixPath('Mathlib/Algebra/Regular/Basic.lean'), full_name='isRegular_iff'),\n",
       "  '@[to_additive]\\ntheorem isRegular_iff {c : R} : IsRegular c ↔ IsLeftRegular c ∧ IsRightRegular c',\n",
       "  []),\n",
       " 'MulLECancellable.isLeftRegular': (Theorem(repo=LeanGitRepo(url='https://github.com/leanprover-community/mathlib4', commit='27c6744e1c0e25d676be5eb252cd4b6d30c6acc7'), file_path=PosixPath('Mathlib/Algebra/Regular/Basic.lean'), full_name='MulLECancellable.isLeftRegular'),\n",
       "  '@[to_additive]\\nprotected theorem MulLECancellable.isLeftRegular [PartialOrder R] {a : R}\\n    (ha : MulLECancellable a) : IsLeftRegular a',\n",
       "  []),\n",
       " 'IsLeftRegular.right_of_commute': (Theorem(repo=LeanGitRepo(url='https://github.com/leanprover-community/mathlib4', commit='27c6744e1c0e25d676be5eb252cd4b6d30c6acc7'), file_path=PosixPath('Mathlib/Algebra/Regular/Basic.lean'), full_name='IsLeftRegular.right_of_commute'),\n",
       "  'theorem IsLeftRegular.right_of_commute {a : R}\\n    (ca : ∀ b, Commute a b) (h : IsLeftRegular a) : IsRightRegular a',\n",
       "  []),\n",
       " 'IsRightRegular.left_of_commute': (Theorem(repo=LeanGitRepo(url='https://github.com/leanprover-community/mathlib4', commit='27c6744e1c0e25d676be5eb252cd4b6d30c6acc7'), file_path=PosixPath('Mathlib/Algebra/Regular/Basic.lean'), full_name='IsRightRegular.left_of_commute'),\n",
       "  'theorem IsRightRegular.left_of_commute {a : R}\\n    (ca : ∀ b, Commute a b) (h : IsRightRegular a) : IsLeftRegular a',\n",
       "  ['simp_rw [@Commute.symm_iff R _ a] at ca',\n",
       "   'exact fun x y xy => h <| (ca x).trans <| xy.trans <| (ca y).symm']),\n",
       " 'Commute.isRightRegular_iff': (Theorem(repo=LeanGitRepo(url='https://github.com/leanprover-community/mathlib4', commit='27c6744e1c0e25d676be5eb252cd4b6d30c6acc7'), file_path=PosixPath('Mathlib/Algebra/Regular/Basic.lean'), full_name='Commute.isRightRegular_iff'),\n",
       "  'theorem Commute.isRightRegular_iff {a : R} (ca : ∀ b, Commute a b) :\\n    IsRightRegular a ↔ IsLeftRegular a',\n",
       "  []),\n",
       " 'Commute.isRegular_iff': (Theorem(repo=LeanGitRepo(url='https://github.com/leanprover-community/mathlib4', commit='27c6744e1c0e25d676be5eb252cd4b6d30c6acc7'), file_path=PosixPath('Mathlib/Algebra/Regular/Basic.lean'), full_name='Commute.isRegular_iff'),\n",
       "  'theorem Commute.isRegular_iff {a : R} (ca : ∀ b, Commute a b) : IsRegular a ↔ IsLeftRegular a',\n",
       "  []),\n",
       " 'IsLeftRegular.mul': (Theorem(repo=LeanGitRepo(url='https://github.com/leanprover-community/mathlib4', commit='27c6744e1c0e25d676be5eb252cd4b6d30c6acc7'), file_path=PosixPath('Mathlib/Algebra/Regular/Basic.lean'), full_name='IsLeftRegular.mul'),\n",
       "  '@[to_additive \"In an additive semigroup, the sum of add-left-regular elements is add-left.regular.\"]\\ntheorem IsLeftRegular.mul (lra : IsLeftRegular a) (lrb : IsLeftRegular b) : IsLeftRegular (a * b)',\n",
       "  []),\n",
       " 'IsRightRegular.mul': (Theorem(repo=LeanGitRepo(url='https://github.com/leanprover-community/mathlib4', commit='27c6744e1c0e25d676be5eb252cd4b6d30c6acc7'), file_path=PosixPath('Mathlib/Algebra/Regular/Basic.lean'), full_name='IsRightRegular.mul'),\n",
       "  '@[to_additive \"In an additive semigroup, the sum of add-right-regular elements is\\nadd-right-regular.\"]\\ntheorem IsRightRegular.mul (rra : IsRightRegular a) (rrb : IsRightRegular b) :\\n    IsRightRegular (a * b)',\n",
       "  []),\n",
       " 'IsLeftRegular.of_mul': (Theorem(repo=LeanGitRepo(url='https://github.com/leanprover-community/mathlib4', commit='27c6744e1c0e25d676be5eb252cd4b6d30c6acc7'), file_path=PosixPath('Mathlib/Algebra/Regular/Basic.lean'), full_name='IsLeftRegular.of_mul'),\n",
       "  '@[to_additive \"If an element `b` becomes add-left-regular after adding to it on the left\\nan add-left-regular element, then `b` is add-left-regular.\"]\\ntheorem IsLeftRegular.of_mul (ab : IsLeftRegular (a * b)) : IsLeftRegular b',\n",
       "  ['rwa [comp_mul_left a b]']),\n",
       " 'mul_isLeftRegular_iff': (Theorem(repo=LeanGitRepo(url='https://github.com/leanprover-community/mathlib4', commit='27c6744e1c0e25d676be5eb252cd4b6d30c6acc7'), file_path=PosixPath('Mathlib/Algebra/Regular/Basic.lean'), full_name='mul_isLeftRegular_iff'),\n",
       "  '@[to_additive (attr := simp) \"An element is add-left-regular if and only if adding to it on the left\\nan add-left-regular element is add-left-regular.\"]\\ntheorem mul_isLeftRegular_iff (b : R) (ha : IsLeftRegular a) :\\n    IsLeftRegular (a * b) ↔ IsLeftRegular b',\n",
       "  []),\n",
       " 'IsRightRegular.of_mul': (Theorem(repo=LeanGitRepo(url='https://github.com/leanprover-community/mathlib4', commit='27c6744e1c0e25d676be5eb252cd4b6d30c6acc7'), file_path=PosixPath('Mathlib/Algebra/Regular/Basic.lean'), full_name='IsRightRegular.of_mul'),\n",
       "  '@[to_additive \"If an element `b` becomes add-right-regular after adding to it on the right\\nan add-right-regular element, then `b` is add-right-regular.\"]\\ntheorem IsRightRegular.of_mul (ab : IsRightRegular (b * a)) : IsRightRegular b',\n",
       "  ['refine fun x y xy => ab (?_ : x * (b * a) = y * (b * a))',\n",
       "   'rw [← mul_assoc, ← mul_assoc]',\n",
       "   'exact congr_arg (· * a) xy']),\n",
       " 'mul_isRightRegular_iff': (Theorem(repo=LeanGitRepo(url='https://github.com/leanprover-community/mathlib4', commit='27c6744e1c0e25d676be5eb252cd4b6d30c6acc7'), file_path=PosixPath('Mathlib/Algebra/Regular/Basic.lean'), full_name='mul_isRightRegular_iff'),\n",
       "  '@[to_additive (attr := simp)\\n\"An element is add-right-regular if and only if adding it on the right to\\nan add-right-regular element is add-right-regular.\"]\\ntheorem mul_isRightRegular_iff (b : R) (ha : IsRightRegular a) :\\n    IsRightRegular (b * a) ↔ IsRightRegular b',\n",
       "  []),\n",
       " 'isRegular_mul_and_mul_iff': (Theorem(repo=LeanGitRepo(url='https://github.com/leanprover-community/mathlib4', commit='27c6744e1c0e25d676be5eb252cd4b6d30c6acc7'), file_path=PosixPath('Mathlib/Algebra/Regular/Basic.lean'), full_name='isRegular_mul_and_mul_iff'),\n",
       "  '@[to_additive \"Two elements `a` and `b` are add-regular if and only if both sums `a + b` and\\n`b + a` are add-regular.\"]\\ntheorem isRegular_mul_and_mul_iff :\\n    IsRegular (a * b) ∧ IsRegular (b * a) ↔ IsRegular a ∧ IsRegular b',\n",
       "  ['refine ⟨?_, ?_⟩',\n",
       "   '· rintro ⟨ab, ba⟩\\n  exact\\n    ⟨⟨IsLeftRegular.of_mul ba.left, IsRightRegular.of_mul ab.right⟩,\\n      ⟨IsLeftRegular.of_mul ab.left, IsRightRegular.of_mul ba.right⟩⟩',\n",
       "   '· rintro ⟨ha, hb⟩\\n  exact\\n    ⟨⟨(mul_isLeftRegular_iff _ ha.left).mpr hb.left,\\n        (mul_isRightRegular_iff _ hb.right).mpr ha.right⟩,\\n      ⟨(mul_isLeftRegular_iff _ hb.left).mpr ha.left,\\n        (mul_isRightRegular_iff _ ha.right).mpr hb.right⟩⟩',\n",
       "   'rintro ⟨ab, ba⟩',\n",
       "   'exact\\n  ⟨⟨IsLeftRegular.of_mul ba.left, IsRightRegular.of_mul ab.right⟩,\\n    ⟨IsLeftRegular.of_mul ab.left, IsRightRegular.of_mul ba.right⟩⟩',\n",
       "   'rintro ⟨ha, hb⟩',\n",
       "   'exact\\n  ⟨⟨(mul_isLeftRegular_iff _ ha.left).mpr hb.left,\\n      (mul_isRightRegular_iff _ hb.right).mpr ha.right⟩,\\n    ⟨(mul_isLeftRegular_iff _ hb.left).mpr ha.left,\\n      (mul_isRightRegular_iff _ ha.right).mpr hb.right⟩⟩']),\n",
       " 'IsRegular.and_of_mul_of_mul': (Theorem(repo=LeanGitRepo(url='https://github.com/leanprover-community/mathlib4', commit='27c6744e1c0e25d676be5eb252cd4b6d30c6acc7'), file_path=PosixPath('Mathlib/Algebra/Regular/Basic.lean'), full_name='IsRegular.and_of_mul_of_mul'),\n",
       "  '@[to_additive \"The \\\\\"most used\\\\\" implication of `add_and_add_iff`, with split\\nhypotheses, instead of `∧`.\"]\\ntheorem IsRegular.and_of_mul_of_mul (ab : IsRegular (a * b)) (ba : IsRegular (b * a)) :\\n    IsRegular a ∧ IsRegular b',\n",
       "  []),\n",
       " 'IsLeftRegular.subsingleton': (Theorem(repo=LeanGitRepo(url='https://github.com/leanprover-community/mathlib4', commit='27c6744e1c0e25d676be5eb252cd4b6d30c6acc7'), file_path=PosixPath('Mathlib/Algebra/Regular/Basic.lean'), full_name='IsLeftRegular.subsingleton'),\n",
       "  'theorem IsLeftRegular.subsingleton (h : IsLeftRegular (0 : R)) : Subsingleton R',\n",
       "  []),\n",
       " 'IsRightRegular.subsingleton': (Theorem(repo=LeanGitRepo(url='https://github.com/leanprover-community/mathlib4', commit='27c6744e1c0e25d676be5eb252cd4b6d30c6acc7'), file_path=PosixPath('Mathlib/Algebra/Regular/Basic.lean'), full_name='IsRightRegular.subsingleton'),\n",
       "  'theorem IsRightRegular.subsingleton (h : IsRightRegular (0 : R)) : Subsingleton R',\n",
       "  []),\n",
       " 'IsRegular.subsingleton': (Theorem(repo=LeanGitRepo(url='https://github.com/leanprover-community/mathlib4', commit='27c6744e1c0e25d676be5eb252cd4b6d30c6acc7'), file_path=PosixPath('Mathlib/Algebra/Regular/Basic.lean'), full_name='IsRegular.subsingleton'),\n",
       "  'theorem IsRegular.subsingleton (h : IsRegular (0 : R)) : Subsingleton R',\n",
       "  []),\n",
       " 'isLeftRegular_zero_iff_subsingleton': (Theorem(repo=LeanGitRepo(url='https://github.com/leanprover-community/mathlib4', commit='27c6744e1c0e25d676be5eb252cd4b6d30c6acc7'), file_path=PosixPath('Mathlib/Algebra/Regular/Basic.lean'), full_name='isLeftRegular_zero_iff_subsingleton'),\n",
       "  'theorem isLeftRegular_zero_iff_subsingleton : IsLeftRegular (0 : R) ↔ Subsingleton R',\n",
       "  []),\n",
       " 'not_isLeftRegular_zero_iff': (Theorem(repo=LeanGitRepo(url='https://github.com/leanprover-community/mathlib4', commit='27c6744e1c0e25d676be5eb252cd4b6d30c6acc7'), file_path=PosixPath('Mathlib/Algebra/Regular/Basic.lean'), full_name='not_isLeftRegular_zero_iff'),\n",
       "  'theorem not_isLeftRegular_zero_iff : ¬IsLeftRegular (0 : R) ↔ Nontrivial R',\n",
       "  ['rw [nontrivial_iff, not_iff_comm, isLeftRegular_zero_iff_subsingleton, subsingleton_iff]',\n",
       "   'push_neg',\n",
       "   'exact Iff.rfl']),\n",
       " 'isRightRegular_zero_iff_subsingleton': (Theorem(repo=LeanGitRepo(url='https://github.com/leanprover-community/mathlib4', commit='27c6744e1c0e25d676be5eb252cd4b6d30c6acc7'), file_path=PosixPath('Mathlib/Algebra/Regular/Basic.lean'), full_name='isRightRegular_zero_iff_subsingleton'),\n",
       "  'theorem isRightRegular_zero_iff_subsingleton : IsRightRegular (0 : R) ↔ Subsingleton R',\n",
       "  []),\n",
       " 'not_isRightRegular_zero_iff': (Theorem(repo=LeanGitRepo(url='https://github.com/leanprover-community/mathlib4', commit='27c6744e1c0e25d676be5eb252cd4b6d30c6acc7'), file_path=PosixPath('Mathlib/Algebra/Regular/Basic.lean'), full_name='not_isRightRegular_zero_iff'),\n",
       "  'theorem not_isRightRegular_zero_iff : ¬IsRightRegular (0 : R) ↔ Nontrivial R',\n",
       "  ['rw [nontrivial_iff, not_iff_comm, isRightRegular_zero_iff_subsingleton, subsingleton_iff]',\n",
       "   'push_neg',\n",
       "   'exact Iff.rfl']),\n",
       " 'isRegular_iff_subsingleton': (Theorem(repo=LeanGitRepo(url='https://github.com/leanprover-community/mathlib4', commit='27c6744e1c0e25d676be5eb252cd4b6d30c6acc7'), file_path=PosixPath('Mathlib/Algebra/Regular/Basic.lean'), full_name='isRegular_iff_subsingleton'),\n",
       "  'theorem isRegular_iff_subsingleton : IsRegular (0 : R) ↔ Subsingleton R',\n",
       "  []),\n",
       " 'IsLeftRegular.ne_zero': (Theorem(repo=LeanGitRepo(url='https://github.com/leanprover-community/mathlib4', commit='27c6744e1c0e25d676be5eb252cd4b6d30c6acc7'), file_path=PosixPath('Mathlib/Algebra/Regular/Basic.lean'), full_name='IsLeftRegular.ne_zero'),\n",
       "  'theorem IsLeftRegular.ne_zero [Nontrivial R] (la : IsLeftRegular a) : a ≠ 0',\n",
       "  ['rintro rfl',\n",
       "   'rcases exists_pair_ne R with ⟨x, y, xy⟩',\n",
       "   'refine xy (la (?_ : 0 * x = 0 * y))',\n",
       "   'rw [zero_mul, zero_mul]']),\n",
       " 'IsRightRegular.ne_zero': (Theorem(repo=LeanGitRepo(url='https://github.com/leanprover-community/mathlib4', commit='27c6744e1c0e25d676be5eb252cd4b6d30c6acc7'), file_path=PosixPath('Mathlib/Algebra/Regular/Basic.lean'), full_name='IsRightRegular.ne_zero'),\n",
       "  'theorem IsRightRegular.ne_zero [Nontrivial R] (ra : IsRightRegular a) : a ≠ 0',\n",
       "  ['rintro rfl',\n",
       "   'rcases exists_pair_ne R with ⟨x, y, xy⟩',\n",
       "   'refine xy (ra (?_ : x * 0 = y * 0))',\n",
       "   'rw [mul_zero, mul_zero]']),\n",
       " 'IsRegular.ne_zero': (Theorem(repo=LeanGitRepo(url='https://github.com/leanprover-community/mathlib4', commit='27c6744e1c0e25d676be5eb252cd4b6d30c6acc7'), file_path=PosixPath('Mathlib/Algebra/Regular/Basic.lean'), full_name='IsRegular.ne_zero'),\n",
       "  'theorem IsRegular.ne_zero [Nontrivial R] (la : IsRegular a) : a ≠ 0',\n",
       "  []),\n",
       " 'not_isLeftRegular_zero': (Theorem(repo=LeanGitRepo(url='https://github.com/leanprover-community/mathlib4', commit='27c6744e1c0e25d676be5eb252cd4b6d30c6acc7'), file_path=PosixPath('Mathlib/Algebra/Regular/Basic.lean'), full_name='not_isLeftRegular_zero'),\n",
       "  'theorem not_isLeftRegular_zero [nR : Nontrivial R] : ¬IsLeftRegular (0 : R)',\n",
       "  []),\n",
       " 'not_isRightRegular_zero': (Theorem(repo=LeanGitRepo(url='https://github.com/leanprover-community/mathlib4', commit='27c6744e1c0e25d676be5eb252cd4b6d30c6acc7'), file_path=PosixPath('Mathlib/Algebra/Regular/Basic.lean'), full_name='not_isRightRegular_zero'),\n",
       "  'theorem not_isRightRegular_zero [nR : Nontrivial R] : ¬IsRightRegular (0 : R)',\n",
       "  []),\n",
       " 'not_isRegular_zero': (Theorem(repo=LeanGitRepo(url='https://github.com/leanprover-community/mathlib4', commit='27c6744e1c0e25d676be5eb252cd4b6d30c6acc7'), file_path=PosixPath('Mathlib/Algebra/Regular/Basic.lean'), full_name='not_isRegular_zero'),\n",
       "  'theorem not_isRegular_zero [Nontrivial R] : ¬IsRegular (0 : R)',\n",
       "  []),\n",
       " 'IsLeftRegular.mul_left_eq_zero_iff': (Theorem(repo=LeanGitRepo(url='https://github.com/leanprover-community/mathlib4', commit='27c6744e1c0e25d676be5eb252cd4b6d30c6acc7'), file_path=PosixPath('Mathlib/Algebra/Regular/Basic.lean'), full_name='IsLeftRegular.mul_left_eq_zero_iff'),\n",
       "  '@[simp] lemma IsLeftRegular.mul_left_eq_zero_iff (hb : IsLeftRegular b) : b * a = 0 ↔ a = 0 := by\\n  nth_rw 1 [← mul_zero b]\\n  exact ⟨fun h ↦ hb h, fun ha ↦ by rw [ha]⟩',\n",
       "  ['nth_rw 1 [← mul_zero b]',\n",
       "   'exact ⟨fun h ↦ hb h, fun ha ↦ by rw [ha]⟩',\n",
       "   'rw [ha]']),\n",
       " 'IsRightRegular.mul_right_eq_zero_iff': (Theorem(repo=LeanGitRepo(url='https://github.com/leanprover-community/mathlib4', commit='27c6744e1c0e25d676be5eb252cd4b6d30c6acc7'), file_path=PosixPath('Mathlib/Algebra/Regular/Basic.lean'), full_name='IsRightRegular.mul_right_eq_zero_iff'),\n",
       "  '@[simp] lemma IsRightRegular.mul_right_eq_zero_iff (hb : IsRightRegular b) : a * b = 0 ↔ a = 0 := by\\n  nth_rw 1 [← zero_mul b]\\n  exact ⟨fun h ↦ hb h, fun ha ↦ by rw [ha]⟩',\n",
       "  ['nth_rw 1 [← zero_mul b]',\n",
       "   'exact ⟨fun h ↦ hb h, fun ha ↦ by rw [ha]⟩',\n",
       "   'rw [ha]']),\n",
       " 'isRegular_one': (Theorem(repo=LeanGitRepo(url='https://github.com/leanprover-community/mathlib4', commit='27c6744e1c0e25d676be5eb252cd4b6d30c6acc7'), file_path=PosixPath('Mathlib/Algebra/Regular/Basic.lean'), full_name='isRegular_one'),\n",
       "  '@[to_additive \"If adding `0` on either side is the identity, `0` is regular.\"]\\ntheorem isRegular_one : IsRegular (1 : R)',\n",
       "  []),\n",
       " 'isRegular_mul_iff': (Theorem(repo=LeanGitRepo(url='https://github.com/leanprover-community/mathlib4', commit='27c6744e1c0e25d676be5eb252cd4b6d30c6acc7'), file_path=PosixPath('Mathlib/Algebra/Regular/Basic.lean'), full_name='isRegular_mul_iff'),\n",
       "  '@[to_additive \"A sum is add-regular if and only if the summands are.\"]\\ntheorem isRegular_mul_iff : IsRegular (a * b) ↔ IsRegular a ∧ IsRegular b',\n",
       "  ['refine Iff.trans ?_ isRegular_mul_and_mul_iff',\n",
       "   'exact ⟨fun ab => ⟨ab, by rwa [mul_comm]⟩, fun rab => rab.1⟩',\n",
       "   'rwa [mul_comm]']),\n",
       " 'isLeftRegular_of_mul_eq_one': (Theorem(repo=LeanGitRepo(url='https://github.com/leanprover-community/mathlib4', commit='27c6744e1c0e25d676be5eb252cd4b6d30c6acc7'), file_path=PosixPath('Mathlib/Algebra/Regular/Basic.lean'), full_name='isLeftRegular_of_mul_eq_one'),\n",
       "  '@[to_additive \"An element admitting a left additive opposite is add-left-regular.\"]\\ntheorem isLeftRegular_of_mul_eq_one (h : b * a = 1) : IsLeftRegular a',\n",
       "  ['rw [h]', 'exact isRegular_one.left']),\n",
       " 'isRightRegular_of_mul_eq_one': (Theorem(repo=LeanGitRepo(url='https://github.com/leanprover-community/mathlib4', commit='27c6744e1c0e25d676be5eb252cd4b6d30c6acc7'), file_path=PosixPath('Mathlib/Algebra/Regular/Basic.lean'), full_name='isRightRegular_of_mul_eq_one'),\n",
       "  '@[to_additive \"An element admitting a right additive opposite is add-right-regular.\"]\\ntheorem isRightRegular_of_mul_eq_one (h : a * b = 1) : IsRightRegular a',\n",
       "  ['rw [h]', 'exact isRegular_one.right']),\n",
       " 'Units.isRegular': (Theorem(repo=LeanGitRepo(url='https://github.com/leanprover-community/mathlib4', commit='27c6744e1c0e25d676be5eb252cd4b6d30c6acc7'), file_path=PosixPath('Mathlib/Algebra/Regular/Basic.lean'), full_name='Units.isRegular'),\n",
       "  '@[to_additive \"If `R` is an additive monoid, an element in `add_units R` is add-regular.\"]\\ntheorem Units.isRegular (a : Rˣ) : IsRegular (a : R)',\n",
       "  []),\n",
       " 'IsUnit.isRegular': (Theorem(repo=LeanGitRepo(url='https://github.com/leanprover-community/mathlib4', commit='27c6744e1c0e25d676be5eb252cd4b6d30c6acc7'), file_path=PosixPath('Mathlib/Algebra/Regular/Basic.lean'), full_name='IsUnit.isRegular'),\n",
       "  '@[to_additive \"An additive unit in an additive monoid is add-regular.\"]\\ntheorem IsUnit.isRegular (ua : IsUnit a) : IsRegular a',\n",
       "  ['rcases ua with ⟨a, rfl⟩', 'exact Units.isRegular a']),\n",
       " 'IsLeftRegular.all': (Theorem(repo=LeanGitRepo(url='https://github.com/leanprover-community/mathlib4', commit='27c6744e1c0e25d676be5eb252cd4b6d30c6acc7'), file_path=PosixPath('Mathlib/Algebra/Regular/Basic.lean'), full_name='IsLeftRegular.all'),\n",
       "  '@[to_additive \"If all additions cancel on the left then every element is add-left-regular.\"]\\ntheorem IsLeftRegular.all [Mul R] [IsLeftCancelMul R] (g : R) : IsLeftRegular g',\n",
       "  []),\n",
       " 'IsRightRegular.all': (Theorem(repo=LeanGitRepo(url='https://github.com/leanprover-community/mathlib4', commit='27c6744e1c0e25d676be5eb252cd4b6d30c6acc7'), file_path=PosixPath('Mathlib/Algebra/Regular/Basic.lean'), full_name='IsRightRegular.all'),\n",
       "  '@[to_additive \"If all additions cancel on the right then every element is add-right-regular.\"]\\ntheorem IsRightRegular.all [Mul R] [IsRightCancelMul R] (g : R) : IsRightRegular g',\n",
       "  []),\n",
       " 'IsRegular.all': (Theorem(repo=LeanGitRepo(url='https://github.com/leanprover-community/mathlib4', commit='27c6744e1c0e25d676be5eb252cd4b6d30c6acc7'), file_path=PosixPath('Mathlib/Algebra/Regular/Basic.lean'), full_name='IsRegular.all'),\n",
       "  '@[to_additive \"If all additions cancel then every element is add-regular.\"]\\ntheorem IsRegular.all [Mul R] [IsCancelMul R] (g : R) : IsRegular g',\n",
       "  []),\n",
       " 'isRegular_of_ne_zero': (Theorem(repo=LeanGitRepo(url='https://github.com/leanprover-community/mathlib4', commit='27c6744e1c0e25d676be5eb252cd4b6d30c6acc7'), file_path=PosixPath('Mathlib/Algebra/Regular/Basic.lean'), full_name='isRegular_of_ne_zero'),\n",
       "  'theorem isRegular_of_ne_zero (a0 : a ≠ 0) : IsRegular a',\n",
       "  []),\n",
       " 'isRegular_iff_ne_zero': (Theorem(repo=LeanGitRepo(url='https://github.com/leanprover-community/mathlib4', commit='27c6744e1c0e25d676be5eb252cd4b6d30c6acc7'), file_path=PosixPath('Mathlib/Algebra/Regular/Basic.lean'), full_name='isRegular_iff_ne_zero'),\n",
       "  'theorem isRegular_iff_ne_zero [Nontrivial R] : IsRegular a ↔ a ≠ 0',\n",
       "  [])}"
      ]
     },
     "execution_count": 22,
     "metadata": {},
     "output_type": "execute_result"
    }
   ],
   "source": [
    "train_theorems['Mathlib/Algebra/Regular/Basic.lean']"
   ]
  }
 ],
 "metadata": {
  "kernelspec": {
   "display_name": "atp",
   "language": "python",
   "name": "atp"
  },
  "language_info": {
   "codemirror_mode": {
    "name": "ipython",
    "version": 3
   },
   "file_extension": ".py",
   "mimetype": "text/x-python",
   "name": "python",
   "nbconvert_exporter": "python",
   "pygments_lexer": "ipython3",
   "version": "3.10.13"
  }
 },
 "nbformat": 4,
 "nbformat_minor": 5
}
